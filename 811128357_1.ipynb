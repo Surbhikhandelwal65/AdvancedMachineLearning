{
  "nbformat": 4,
  "nbformat_minor": 0,
  "metadata": {
    "colab": {
      "name": "811128357_1.ipynb",
      "provenance": [],
      "collapsed_sections": [
        "JCeaXg8NM6dy",
        "j3FvuwywPr3B",
        "2bPDZaLIOuQa",
        "L1dXtL5u7w0o",
        "5yXRPuDRTsHm",
        "3ak1ZvIVWS9E",
        "oqPru57ZcJxE"
      ],
      "authorship_tag": "ABX9TyOIWtXgHSU+wMY/WrfQbR1/",
      "include_colab_link": true
    },
    "kernelspec": {
      "name": "python3",
      "display_name": "Python 3"
    }
  },
  "cells": [
    {
      "cell_type": "markdown",
      "metadata": {
        "id": "view-in-github",
        "colab_type": "text"
      },
      "source": [
        "<a href=\"https://colab.research.google.com/github/Surbhikhandelwal65/AdvancedMachineLearning/blob/main/811128357_1.ipynb\" target=\"_parent\"><img src=\"https://colab.research.google.com/assets/colab-badge.svg\" alt=\"Open In Colab\"/></a>"
      ]
    },
    {
      "cell_type": "markdown",
      "metadata": {
        "id": "T5s15mM_ci9K"
      },
      "source": [
        "# Advanced Machine Learning Assignment 1 - Neural Networks\r\n",
        "### Surbhi Khandelwal "
      ]
    },
    {
      "cell_type": "markdown",
      "metadata": {
        "id": "_cIwV0LxLPwv"
      },
      "source": [
        "# Classifying movie reviews: a binary classification example\r\n",
        "In this example, we will learn to classify movie reviews into \"positive\" reviews and \"negative\" reviews, just based on the text content of the reviews.\r\n",
        "\r\n",
        "## The IMDB dataset\r\n",
        "We'll be working with \"IMDB dataset\", a set of 50,000 highly-polarized reviews from the Internet Movie Database. They are split into 25,000 reviews for training and 25,000 reviews for testing, each set consisting in 50% negative and 50% positive reviews.\r\n"
      ]
    },
    {
      "cell_type": "code",
      "metadata": {
        "colab": {
          "base_uri": "https://localhost:8080/",
          "height": 35
        },
        "id": "S8jpUdT1Lt7v",
        "outputId": "b04f2d70-8653-4b55-a0f5-7fdf1c8c549b"
      },
      "source": [
        "import keras\r\n",
        "keras.__version__"
      ],
      "execution_count": null,
      "outputs": [
        {
          "output_type": "execute_result",
          "data": {
            "application/vnd.google.colaboratory.intrinsic+json": {
              "type": "string"
            },
            "text/plain": [
              "'2.4.3'"
            ]
          },
          "metadata": {
            "tags": []
          },
          "execution_count": 1
        }
      ]
    },
    {
      "cell_type": "code",
      "metadata": {
        "colab": {
          "base_uri": "https://localhost:8080/"
        },
        "id": "juUkmTTTLy9x",
        "outputId": "1207632a-87c5-47cc-e152-847dde575cf0"
      },
      "source": [
        "from keras.datasets import imdb\r\n",
        "\r\n",
        "(train_data, train_labels), (test_data, test_labels) = imdb.load_data(num_words=10000)"
      ],
      "execution_count": null,
      "outputs": [
        {
          "output_type": "stream",
          "text": [
            "<string>:6: VisibleDeprecationWarning: Creating an ndarray from ragged nested sequences (which is a list-or-tuple of lists-or-tuples-or ndarrays with different lengths or shapes) is deprecated. If you meant to do this, you must specify 'dtype=object' when creating the ndarray\n",
            "/usr/local/lib/python3.6/dist-packages/tensorflow/python/keras/datasets/imdb.py:159: VisibleDeprecationWarning: Creating an ndarray from ragged nested sequences (which is a list-or-tuple of lists-or-tuples-or ndarrays with different lengths or shapes) is deprecated. If you meant to do this, you must specify 'dtype=object' when creating the ndarray\n",
            "  x_train, y_train = np.array(xs[:idx]), np.array(labels[:idx])\n",
            "/usr/local/lib/python3.6/dist-packages/tensorflow/python/keras/datasets/imdb.py:160: VisibleDeprecationWarning: Creating an ndarray from ragged nested sequences (which is a list-or-tuple of lists-or-tuples-or ndarrays with different lengths or shapes) is deprecated. If you meant to do this, you must specify 'dtype=object' when creating the ndarray\n",
            "  x_test, y_test = np.array(xs[idx:]), np.array(labels[idx:])\n"
          ],
          "name": "stderr"
        }
      ]
    },
    {
      "cell_type": "markdown",
      "metadata": {
        "id": "vWSfc8Y6MBql"
      },
      "source": [
        "The argument num_words=10000 means that we will only keep the top 10,000 most frequently occurring words in the training data. Rare words will be discarded. This allows us to work with vector data of manageable size.\r\n",
        "\r\n",
        "The variables train_data and test_data are lists of reviews, each review being a list of word indices (encoding a sequence of words). \r\n",
        "\r\n",
        "train_labels and test_labels are lists of 0s and 1s, \r\n",
        "\r\n",
        "where 0 stands for \"negative\" and \r\n",
        "\r\n",
        "1 stands for \"positive\":"
      ]
    },
    {
      "cell_type": "code",
      "metadata": {
        "colab": {
          "base_uri": "https://localhost:8080/"
        },
        "id": "CvyFXajLMD9V",
        "outputId": "1d15a220-6d8a-4160-f915-43abc85b00e5"
      },
      "source": [
        "train_data[0]"
      ],
      "execution_count": null,
      "outputs": [
        {
          "output_type": "execute_result",
          "data": {
            "text/plain": [
              "[1,\n",
              " 14,\n",
              " 22,\n",
              " 16,\n",
              " 43,\n",
              " 530,\n",
              " 973,\n",
              " 1622,\n",
              " 1385,\n",
              " 65,\n",
              " 458,\n",
              " 4468,\n",
              " 66,\n",
              " 3941,\n",
              " 4,\n",
              " 173,\n",
              " 36,\n",
              " 256,\n",
              " 5,\n",
              " 25,\n",
              " 100,\n",
              " 43,\n",
              " 838,\n",
              " 112,\n",
              " 50,\n",
              " 670,\n",
              " 2,\n",
              " 9,\n",
              " 35,\n",
              " 480,\n",
              " 284,\n",
              " 5,\n",
              " 150,\n",
              " 4,\n",
              " 172,\n",
              " 112,\n",
              " 167,\n",
              " 2,\n",
              " 336,\n",
              " 385,\n",
              " 39,\n",
              " 4,\n",
              " 172,\n",
              " 4536,\n",
              " 1111,\n",
              " 17,\n",
              " 546,\n",
              " 38,\n",
              " 13,\n",
              " 447,\n",
              " 4,\n",
              " 192,\n",
              " 50,\n",
              " 16,\n",
              " 6,\n",
              " 147,\n",
              " 2025,\n",
              " 19,\n",
              " 14,\n",
              " 22,\n",
              " 4,\n",
              " 1920,\n",
              " 4613,\n",
              " 469,\n",
              " 4,\n",
              " 22,\n",
              " 71,\n",
              " 87,\n",
              " 12,\n",
              " 16,\n",
              " 43,\n",
              " 530,\n",
              " 38,\n",
              " 76,\n",
              " 15,\n",
              " 13,\n",
              " 1247,\n",
              " 4,\n",
              " 22,\n",
              " 17,\n",
              " 515,\n",
              " 17,\n",
              " 12,\n",
              " 16,\n",
              " 626,\n",
              " 18,\n",
              " 2,\n",
              " 5,\n",
              " 62,\n",
              " 386,\n",
              " 12,\n",
              " 8,\n",
              " 316,\n",
              " 8,\n",
              " 106,\n",
              " 5,\n",
              " 4,\n",
              " 2223,\n",
              " 5244,\n",
              " 16,\n",
              " 480,\n",
              " 66,\n",
              " 3785,\n",
              " 33,\n",
              " 4,\n",
              " 130,\n",
              " 12,\n",
              " 16,\n",
              " 38,\n",
              " 619,\n",
              " 5,\n",
              " 25,\n",
              " 124,\n",
              " 51,\n",
              " 36,\n",
              " 135,\n",
              " 48,\n",
              " 25,\n",
              " 1415,\n",
              " 33,\n",
              " 6,\n",
              " 22,\n",
              " 12,\n",
              " 215,\n",
              " 28,\n",
              " 77,\n",
              " 52,\n",
              " 5,\n",
              " 14,\n",
              " 407,\n",
              " 16,\n",
              " 82,\n",
              " 2,\n",
              " 8,\n",
              " 4,\n",
              " 107,\n",
              " 117,\n",
              " 5952,\n",
              " 15,\n",
              " 256,\n",
              " 4,\n",
              " 2,\n",
              " 7,\n",
              " 3766,\n",
              " 5,\n",
              " 723,\n",
              " 36,\n",
              " 71,\n",
              " 43,\n",
              " 530,\n",
              " 476,\n",
              " 26,\n",
              " 400,\n",
              " 317,\n",
              " 46,\n",
              " 7,\n",
              " 4,\n",
              " 2,\n",
              " 1029,\n",
              " 13,\n",
              " 104,\n",
              " 88,\n",
              " 4,\n",
              " 381,\n",
              " 15,\n",
              " 297,\n",
              " 98,\n",
              " 32,\n",
              " 2071,\n",
              " 56,\n",
              " 26,\n",
              " 141,\n",
              " 6,\n",
              " 194,\n",
              " 7486,\n",
              " 18,\n",
              " 4,\n",
              " 226,\n",
              " 22,\n",
              " 21,\n",
              " 134,\n",
              " 476,\n",
              " 26,\n",
              " 480,\n",
              " 5,\n",
              " 144,\n",
              " 30,\n",
              " 5535,\n",
              " 18,\n",
              " 51,\n",
              " 36,\n",
              " 28,\n",
              " 224,\n",
              " 92,\n",
              " 25,\n",
              " 104,\n",
              " 4,\n",
              " 226,\n",
              " 65,\n",
              " 16,\n",
              " 38,\n",
              " 1334,\n",
              " 88,\n",
              " 12,\n",
              " 16,\n",
              " 283,\n",
              " 5,\n",
              " 16,\n",
              " 4472,\n",
              " 113,\n",
              " 103,\n",
              " 32,\n",
              " 15,\n",
              " 16,\n",
              " 5345,\n",
              " 19,\n",
              " 178,\n",
              " 32]"
            ]
          },
          "metadata": {
            "tags": []
          },
          "execution_count": 3
        }
      ]
    },
    {
      "cell_type": "code",
      "metadata": {
        "colab": {
          "base_uri": "https://localhost:8080/"
        },
        "id": "4RKPqswWMNuw",
        "outputId": "b5a2444f-24bb-43a1-f1b4-36175d2f6dc9"
      },
      "source": [
        "train_labels"
      ],
      "execution_count": null,
      "outputs": [
        {
          "output_type": "execute_result",
          "data": {
            "text/plain": [
              "array([1, 0, 0, ..., 0, 1, 0])"
            ]
          },
          "metadata": {
            "tags": []
          },
          "execution_count": 4
        }
      ]
    },
    {
      "cell_type": "markdown",
      "metadata": {
        "id": "TGr18gzxMcgv"
      },
      "source": [
        "The reversal of numbered review into words."
      ]
    },
    {
      "cell_type": "code",
      "metadata": {
        "colab": {
          "base_uri": "https://localhost:8080/",
          "height": 188
        },
        "id": "Isf6Ff6bMbJF",
        "outputId": "5cda6cf9-4ae1-4850-f085-857ef2405bfc"
      },
      "source": [
        "# word_index is a dictionary mapping words to an integer index\r\n",
        "word_index = imdb.get_word_index()\r\n",
        "# We reverse it, mapping integer indices to words\r\n",
        "reverse_word_index = dict([(value, key) for (key, value) in word_index.items()])\r\n",
        "# We decode the review; note that our indices were offset by 3\r\n",
        "# because 0, 1 and 2 are reserved indices for \"padding\", \"start of sequence\", and \"unknown\".\r\n",
        "decoded_review = ' '.join([reverse_word_index.get(i - 3, '?') for i in train_data[0]])\r\n",
        "decoded_review"
      ],
      "execution_count": null,
      "outputs": [
        {
          "output_type": "stream",
          "text": [
            "Downloading data from https://storage.googleapis.com/tensorflow/tf-keras-datasets/imdb_word_index.json\n",
            "1646592/1641221 [==============================] - 0s 0us/step\n"
          ],
          "name": "stdout"
        },
        {
          "output_type": "execute_result",
          "data": {
            "application/vnd.google.colaboratory.intrinsic+json": {
              "type": "string"
            },
            "text/plain": [
              "\"? this film was just brilliant casting location scenery story direction everyone's really suited the part they played and you could just imagine being there robert ? is an amazing actor and now the same being director ? father came from the same scottish island as myself so i loved the fact there was a real connection with this film the witty remarks throughout the film were great it was just brilliant so much that i bought the film as soon as it was released for ? and would recommend it to everyone to watch and the fly fishing was amazing really cried at the end it was so sad and you know what they say if you cry at a film it must have been good and this definitely was also ? to the two little boy's that played the ? of norman and paul they were just brilliant children are often left out of the ? list i think because the stars that play them all grown up are such a big profile for the whole film but these children are amazing and should be praised for what they have done don't you think the whole story was so lovely because it was true and was someone's life after all that was shared with us all\""
            ]
          },
          "metadata": {
            "tags": []
          },
          "execution_count": 5
        }
      ]
    },
    {
      "cell_type": "markdown",
      "metadata": {
        "id": "JCeaXg8NM6dy"
      },
      "source": [
        "## Preparing the data\r\n",
        "We cannot feed lists of integers into a neural network. We have to turn our lists into tensors. There are two ways we could do that:\r\n",
        "\r\n",
        "We are going to one-hot-encode our lists to turn them into vectors of 0s and 1s. Concretely, this would mean for instance turning the sequence [3, 5] into a 10,000-dimensional vector that would be all-zeros except for indices 3 and 5, which would be ones. Then we could use as first layer in our network a Dense layer, capable of handling floating point vector data.\r\n"
      ]
    },
    {
      "cell_type": "code",
      "metadata": {
        "id": "iEd7Y9YGM-bM"
      },
      "source": [
        "import numpy as np\r\n",
        "\r\n",
        "def vectorize_sequences(sequences, dimension=10000):\r\n",
        "    # Create an all-zero matrix of shape (len(sequences), dimension)\r\n",
        "    results = np.zeros((len(sequences), dimension))\r\n",
        "    for i, sequence in enumerate(sequences):\r\n",
        "        results[i, sequence] = 1.  # set specific indices of results[i] to 1s\r\n",
        "    return results\r\n",
        "\r\n",
        "# Our vectorized training data\r\n",
        "x_train = vectorize_sequences(train_data)\r\n",
        "# Our vectorized test data\r\n",
        "x_test = vectorize_sequences(test_data)"
      ],
      "execution_count": null,
      "outputs": []
    },
    {
      "cell_type": "code",
      "metadata": {
        "colab": {
          "base_uri": "https://localhost:8080/"
        },
        "id": "e8zea0KnNOCm",
        "outputId": "c52442cb-0661-4664-a181-d82312412840"
      },
      "source": [
        "x_train[0]"
      ],
      "execution_count": null,
      "outputs": [
        {
          "output_type": "execute_result",
          "data": {
            "text/plain": [
              "array([0., 1., 1., ..., 0., 0., 0.])"
            ]
          },
          "metadata": {
            "tags": []
          },
          "execution_count": 4
        }
      ]
    },
    {
      "cell_type": "markdown",
      "metadata": {
        "id": "wnjh9e_KNRj9"
      },
      "source": [
        "We should also vectorize our labels:\r\n",
        "\r\n"
      ]
    },
    {
      "cell_type": "code",
      "metadata": {
        "id": "SS_vhvGVNVKl"
      },
      "source": [
        "# Our vectorized labels\r\n",
        "y_train = np.asarray(train_labels).astype('float32')\r\n",
        "y_test = np.asarray(test_labels).astype('float32')"
      ],
      "execution_count": null,
      "outputs": []
    },
    {
      "cell_type": "markdown",
      "metadata": {
        "id": "AT7i1FKMNw95"
      },
      "source": [
        "## Building our network\r\n",
        "Our input data is simply vectors, and our labels are scalars (1s and 0s). A type of network that performs well on such a problem would be a simple stack of fully-connected (Dense) layers with relu activations: Dense(16, \r\n",
        "activation='relu')\r\n",
        "\r\n",
        "There are two key architecture decisions to be made about such stack of dense layers:\r\n",
        "\r\n",
        "How many layers to use.\r\n",
        "How many \"hidden units\" to chose for each layer.\r\n"
      ]
    },
    {
      "cell_type": "code",
      "metadata": {
        "id": "1MhH5OFBN1_7"
      },
      "source": [
        "from keras import models\r\n",
        "from keras import layers\r\n",
        "\r\n",
        "model = models.Sequential()\r\n",
        "model.add(layers.Dense(16, activation='relu', input_shape=(10000,)))\r\n",
        "model.add(layers.Dense(16, activation='relu'))\r\n",
        "model.add(layers.Dense(1, activation='sigmoid'))\r\n"
      ],
      "execution_count": null,
      "outputs": []
    },
    {
      "cell_type": "markdown",
      "metadata": {
        "id": "bt75nJGzN9Ph"
      },
      "source": [
        "Optimizer function"
      ]
    },
    {
      "cell_type": "code",
      "metadata": {
        "id": "PZK54LDVN_PH"
      },
      "source": [
        "model.compile(optimizer='rmsprop',\r\n",
        "              loss='binary_crossentropy',\r\n",
        "              metrics=['accuracy'])\r\n"
      ],
      "execution_count": null,
      "outputs": []
    },
    {
      "cell_type": "markdown",
      "metadata": {
        "id": "j3FvuwywPr3B"
      },
      "source": [
        "## Validating our approach\r\n",
        "In order to monitor during training the accuracy of the model on data that it has never seen before, we will create a \"validation set\" by setting apart 10,000 samples from the original training data:\r\n",
        "\r\n"
      ]
    },
    {
      "cell_type": "code",
      "metadata": {
        "id": "Ab5kNR8XPyJJ"
      },
      "source": [
        "x_val = x_train[:10000]\r\n",
        "partial_x_train = x_train[10000:]\r\n",
        "\r\n",
        "y_val = y_train[:10000]\r\n",
        "partial_y_train = y_train[10000:]\r\n"
      ],
      "execution_count": null,
      "outputs": []
    },
    {
      "cell_type": "markdown",
      "metadata": {
        "id": "uS2ywrnMP3gk"
      },
      "source": [
        "We will now train our model for 20 epochs (20 iterations over all samples in the x_train and y_train tensors), in mini-batches of 512 samples. At this same time we will monitor loss and accuracy on the 10,000 samples that we set apart. This is done by passing the validation data as the validation_data argument:\r\n",
        "\r\n"
      ]
    },
    {
      "cell_type": "code",
      "metadata": {
        "colab": {
          "base_uri": "https://localhost:8080/"
        },
        "id": "_7O9CHIEP8Du",
        "outputId": "68f86b1a-5bd0-446e-d76d-7372944a91ba"
      },
      "source": [
        "history = model.fit(partial_x_train,\r\n",
        "                    partial_y_train,\r\n",
        "                    epochs=20,\r\n",
        "                    batch_size=512,\r\n",
        "                    validation_data=(x_val, y_val))\r\n"
      ],
      "execution_count": null,
      "outputs": [
        {
          "output_type": "stream",
          "text": [
            "Epoch 1/20\n",
            "30/30 [==============================] - 2s 54ms/step - loss: 0.5968 - accuracy: 0.7110 - val_loss: 0.4051 - val_accuracy: 0.8719\n",
            "Epoch 2/20\n",
            "30/30 [==============================] - 1s 35ms/step - loss: 0.3410 - accuracy: 0.9035 - val_loss: 0.3141 - val_accuracy: 0.8841\n",
            "Epoch 3/20\n",
            "30/30 [==============================] - 1s 35ms/step - loss: 0.2439 - accuracy: 0.9232 - val_loss: 0.2791 - val_accuracy: 0.8901\n",
            "Epoch 4/20\n",
            "30/30 [==============================] - 1s 35ms/step - loss: 0.1776 - accuracy: 0.9460 - val_loss: 0.2745 - val_accuracy: 0.8917\n",
            "Epoch 5/20\n",
            "30/30 [==============================] - 1s 35ms/step - loss: 0.1431 - accuracy: 0.9559 - val_loss: 0.2782 - val_accuracy: 0.8874\n",
            "Epoch 6/20\n",
            "30/30 [==============================] - 1s 35ms/step - loss: 0.1141 - accuracy: 0.9679 - val_loss: 0.2927 - val_accuracy: 0.8870\n",
            "Epoch 7/20\n",
            "30/30 [==============================] - 1s 35ms/step - loss: 0.0975 - accuracy: 0.9710 - val_loss: 0.3235 - val_accuracy: 0.8784\n",
            "Epoch 8/20\n",
            "30/30 [==============================] - 1s 42ms/step - loss: 0.0802 - accuracy: 0.9786 - val_loss: 0.3262 - val_accuracy: 0.8831\n",
            "Epoch 9/20\n",
            "30/30 [==============================] - 1s 34ms/step - loss: 0.0657 - accuracy: 0.9839 - val_loss: 0.3624 - val_accuracy: 0.8743\n",
            "Epoch 10/20\n",
            "30/30 [==============================] - 1s 35ms/step - loss: 0.0548 - accuracy: 0.9868 - val_loss: 0.3910 - val_accuracy: 0.8773\n",
            "Epoch 11/20\n",
            "30/30 [==============================] - 1s 35ms/step - loss: 0.0448 - accuracy: 0.9897 - val_loss: 0.3977 - val_accuracy: 0.8772\n",
            "Epoch 12/20\n",
            "30/30 [==============================] - 1s 35ms/step - loss: 0.0321 - accuracy: 0.9947 - val_loss: 0.4258 - val_accuracy: 0.8756\n",
            "Epoch 13/20\n",
            "30/30 [==============================] - 1s 34ms/step - loss: 0.0271 - accuracy: 0.9951 - val_loss: 0.4565 - val_accuracy: 0.8745\n",
            "Epoch 14/20\n",
            "30/30 [==============================] - 1s 35ms/step - loss: 0.0209 - accuracy: 0.9974 - val_loss: 0.4874 - val_accuracy: 0.8718\n",
            "Epoch 15/20\n",
            "30/30 [==============================] - 1s 34ms/step - loss: 0.0155 - accuracy: 0.9985 - val_loss: 0.5334 - val_accuracy: 0.8655\n",
            "Epoch 16/20\n",
            "30/30 [==============================] - 1s 35ms/step - loss: 0.0141 - accuracy: 0.9984 - val_loss: 0.5508 - val_accuracy: 0.8685\n",
            "Epoch 17/20\n",
            "30/30 [==============================] - 1s 35ms/step - loss: 0.0107 - accuracy: 0.9989 - val_loss: 0.5872 - val_accuracy: 0.8687\n",
            "Epoch 18/20\n",
            "30/30 [==============================] - 1s 35ms/step - loss: 0.0070 - accuracy: 0.9997 - val_loss: 0.7126 - val_accuracy: 0.8507\n",
            "Epoch 19/20\n",
            "30/30 [==============================] - 1s 35ms/step - loss: 0.0077 - accuracy: 0.9982 - val_loss: 0.6533 - val_accuracy: 0.8661\n",
            "Epoch 20/20\n",
            "30/30 [==============================] - 1s 35ms/step - loss: 0.0052 - accuracy: 0.9995 - val_loss: 0.6959 - val_accuracy: 0.8660\n"
          ],
          "name": "stdout"
        }
      ]
    },
    {
      "cell_type": "markdown",
      "metadata": {
        "id": "Ylg0hveIM8rV"
      },
      "source": [
        "We can see here that we have the highest accuracy of 0.8980 and lowest loss of 0.2764 at epoch 3. So we will run our network for 4 epochs."
      ]
    },
    {
      "cell_type": "code",
      "metadata": {
        "colab": {
          "base_uri": "https://localhost:8080/"
        },
        "id": "cQ04b-yC4_FQ",
        "outputId": "5cac4f6c-7e0e-4272-fb23-772d9a88c7c8"
      },
      "source": [
        "\r\n",
        "history_dict = history.history\r\n",
        "history_dict.keys()"
      ],
      "execution_count": null,
      "outputs": [
        {
          "output_type": "execute_result",
          "data": {
            "text/plain": [
              "dict_keys(['loss', 'accuracy', 'val_loss', 'val_accuracy'])"
            ]
          },
          "metadata": {
            "tags": []
          },
          "execution_count": 10
        }
      ]
    },
    {
      "cell_type": "markdown",
      "metadata": {
        "id": "2bPDZaLIOuQa"
      },
      "source": [
        "##Using Matlab\r\n",
        "Using matlab to check how the accuracy and loss are affected by the no. of epochs:"
      ]
    },
    {
      "cell_type": "code",
      "metadata": {
        "colab": {
          "base_uri": "https://localhost:8080/"
        },
        "id": "iH0uztuhOtmy",
        "outputId": "4aa4022d-57e2-4f58-bed0-b8c0eb99f1e3"
      },
      "source": [
        "import matplotlib.pyplot as plt\r\n",
        "\r\n",
        "acc = history.history['accuracy']\r\n",
        "val_acc = history.history['val_accuracy']\r\n",
        "loss = history.history['loss']\r\n",
        "val_loss = history.history['val_loss']\r\n",
        "\r\n",
        "epochs = range(1, len(acc) + 1)\r\n",
        "\r\n",
        "# \"bo\" is for \"blue dot\"\r\n",
        "plt.plot(epochs, loss, 'bo', label='Training loss')\r\n",
        "# b is for \"solid blue line\"\r\n",
        "plt.plot(epochs, val_loss, 'b', label='Validation loss')\r\n",
        "plt.title('Training and validation loss')\r\n",
        "plt.xlabel('Epochs')\r\n",
        "plt.ylabel('Loss')\r\n",
        "plt.legend()\r\n",
        "\r\n",
        "plt.show()"
      ],
      "execution_count": null,
      "outputs": [
        {
          "output_type": "display_data",
          "data": {
            "image/png": "[encoded data removed]",
            "text/plain": [
              "<Figure size 432x288 with 1 Axes>"
            ]
          },
          "metadata": {
            "tags": [],
            "needs_background": "light"
          }
        }
      ]
    },
    {
      "cell_type": "code",
      "metadata": {
        "colab": {
          "base_uri": "https://localhost:8080/"
        },
        "id": "t_gnePFkPTQD",
        "outputId": "34ef3173-fd58-474b-ddda-d6a7a6776a71"
      },
      "source": [
        "acc_values = history_dict['accuracy']\r\n",
        "val_acc_values = history_dict['val_accuracy']\r\n",
        "\r\n",
        "plt.plot(epochs, acc, 'bo', label='Training acc')\r\n",
        "plt.plot(epochs, val_acc, 'b', label='Validation acc')\r\n",
        "plt.title('Training and validation accuracy')\r\n",
        "plt.xlabel('Epochs')\r\n",
        "plt.ylabel('Loss')\r\n",
        "plt.legend()\r\n",
        "\r\n",
        "plt.show()"
      ],
      "execution_count": null,
      "outputs": [
        {
          "output_type": "display_data",
          "data": {
            "image/png": "[encoded data removed]",
            "text/plain": [
              "<Figure size 432x288 with 1 Axes>"
            ]
          },
          "metadata": {
            "tags": [],
            "needs_background": "light"
          }
        }
      ]
    },
    {
      "cell_type": "markdown",
      "metadata": {
        "id": "moJIw89SORuu"
      },
      "source": [
        "So Let's train a new network with 4 epochs:"
      ]
    },
    {
      "cell_type": "code",
      "metadata": {
        "colab": {
          "base_uri": "https://localhost:8080/"
        },
        "id": "Sw669sLCOiH6",
        "outputId": "2feb2b87-6616-4011-bbe2-d77787a13ee0"
      },
      "source": [
        "model = models.Sequential()\r\n",
        "model.add(layers.Dense(16, activation='relu', input_shape=(10000,)))\r\n",
        "model.add(layers.Dense(16, activation='relu'))\r\n",
        "model.add(layers.Dense(1, activation='sigmoid'))\r\n",
        "\r\n",
        "model.compile(optimizer='rmsprop',\r\n",
        "              loss='binary_crossentropy',\r\n",
        "              metrics=['accuracy'])\r\n",
        "\r\n",
        "model.fit(x_train, y_train, epochs=4, batch_size=512)\r\n",
        "results = model.evaluate(x_test, y_test)"
      ],
      "execution_count": null,
      "outputs": [
        {
          "output_type": "stream",
          "text": [
            "Epoch 1/4\n",
            "49/49 [==============================] - 2s 27ms/step - loss: 0.5418 - accuracy: 0.7461\n",
            "Epoch 2/4\n",
            "49/49 [==============================] - 1s 30ms/step - loss: 0.2672 - accuracy: 0.9108\n",
            "Epoch 3/4\n",
            "49/49 [==============================] - 1s 27ms/step - loss: 0.1938 - accuracy: 0.9324\n",
            "Epoch 4/4\n",
            "49/49 [==============================] - 1s 27ms/step - loss: 0.1625 - accuracy: 0.9451\n",
            "782/782 [==============================] - 2s 2ms/step - loss: 0.2992 - accuracy: 0.8820\n"
          ],
          "name": "stdout"
        }
      ]
    },
    {
      "cell_type": "markdown",
      "metadata": {
        "id": "jnkyfJ506qni"
      },
      "source": [
        "Checking Accuracy"
      ]
    },
    {
      "cell_type": "markdown",
      "metadata": {
        "id": "rvgCf6d9Qc4x"
      },
      "source": [
        "Using a trained network to generate predictions on new data\r\n",
        "After having trained a network, you will want to use it in a practical setting. You can generate the likelihood of reviews being positive by using the predict method:"
      ]
    },
    {
      "cell_type": "code",
      "metadata": {
        "colab": {
          "base_uri": "https://localhost:8080/"
        },
        "id": "m3cYf9cWQgwj",
        "outputId": "046cbefb-5fbe-4576-cd1c-9e1b3c203fa1"
      },
      "source": [
        "model.predict(x_test)\r\n"
      ],
      "execution_count": null,
      "outputs": [
        {
          "output_type": "execute_result",
          "data": {
            "text/plain": [
              "array([[0.19348451],\n",
              "       [0.9996717 ],\n",
              "       [0.8899665 ],\n",
              "       ...,\n",
              "       [0.15438974],\n",
              "       [0.10054728],\n",
              "       [0.70193344]], dtype=float32)"
            ]
          },
          "metadata": {
            "tags": []
          },
          "execution_count": 14
        }
      ]
    },
    {
      "cell_type": "markdown",
      "metadata": {
        "id": "L1dXtL5u7w0o"
      },
      "source": [
        "##1. Using 1 or 3 hidden layers and seeing the validation and test accuracy"
      ]
    },
    {
      "cell_type": "code",
      "metadata": {
        "colab": {
          "base_uri": "https://localhost:8080/",
          "height": 1000
        },
        "id": "A4torvjy_E-7",
        "outputId": "03626522-82db-4157-bd50-52d31aa9eb72"
      },
      "source": [
        "#Building the model with 1 layer\n",
        "\n",
        "from keras import models\n",
        "from keras import layers\n",
        "\n",
        "Layer1_model = models.Sequential()\n",
        "Layer1_model.add(layers.Dense(16, activation='relu', input_shape=(10000,)))\n",
        "Layer1_model.add(layers.Dense(1, activation='sigmoid'))\n",
        "\n",
        "\n",
        "Layer1_model.compile(optimizer='rmsprop',\n",
        "              loss='binary_crossentropy',\n",
        "              metrics=['accuracy'])\n",
        "\n",
        "\n",
        "Layer1_model_hist = Layer1_model.fit(x_train, y_train,\n",
        "                                       epochs=20,\n",
        "                                       batch_size=512,\n",
        "                                       validation_data=(x_test, y_test))\n",
        "\n"
      ],
      "execution_count": null,
      "outputs": [
        {
          "output_type": "stream",
          "text": [
            "Epoch 1/20\n",
            "49/49 [==============================] - 3s 53ms/step - loss: 0.5314 - accuracy: 0.7493 - val_loss: 0.3475 - val_accuracy: 0.8767\n",
            "Epoch 2/20\n",
            "49/49 [==============================] - 2s 39ms/step - loss: 0.2795 - accuracy: 0.9127 - val_loss: 0.2935 - val_accuracy: 0.8883\n",
            "Epoch 3/20\n",
            "49/49 [==============================] - 2s 39ms/step - loss: 0.2189 - accuracy: 0.9266 - val_loss: 0.2834 - val_accuracy: 0.8870\n",
            "Epoch 4/20\n",
            "49/49 [==============================] - 2s 39ms/step - loss: 0.1795 - accuracy: 0.9422 - val_loss: 0.2819 - val_accuracy: 0.8871\n",
            "Epoch 5/20\n",
            "49/49 [==============================] - 2s 39ms/step - loss: 0.1612 - accuracy: 0.9462 - val_loss: 0.2876 - val_accuracy: 0.8849\n",
            "Epoch 6/20\n",
            "49/49 [==============================] - 2s 39ms/step - loss: 0.1424 - accuracy: 0.9549 - val_loss: 0.3024 - val_accuracy: 0.8806\n",
            "Epoch 7/20\n",
            "49/49 [==============================] - 2s 39ms/step - loss: 0.1291 - accuracy: 0.9577 - val_loss: 0.3127 - val_accuracy: 0.8793\n",
            "Epoch 8/20\n",
            "49/49 [==============================] - 2s 39ms/step - loss: 0.1203 - accuracy: 0.9607 - val_loss: 0.3229 - val_accuracy: 0.8765\n",
            "Epoch 9/20\n",
            "49/49 [==============================] - 2s 39ms/step - loss: 0.1092 - accuracy: 0.9645 - val_loss: 0.3365 - val_accuracy: 0.8744\n",
            "Epoch 10/20\n",
            "49/49 [==============================] - 2s 39ms/step - loss: 0.1013 - accuracy: 0.9689 - val_loss: 0.3503 - val_accuracy: 0.8726\n",
            "Epoch 11/20\n",
            "49/49 [==============================] - 2s 38ms/step - loss: 0.0907 - accuracy: 0.9732 - val_loss: 0.3660 - val_accuracy: 0.8706\n",
            "Epoch 12/20\n",
            "49/49 [==============================] - 2s 38ms/step - loss: 0.0838 - accuracy: 0.9749 - val_loss: 0.3816 - val_accuracy: 0.8693\n",
            "Epoch 13/20\n",
            "49/49 [==============================] - 2s 39ms/step - loss: 0.0777 - accuracy: 0.9774 - val_loss: 0.4049 - val_accuracy: 0.8642\n",
            "Epoch 14/20\n",
            "49/49 [==============================] - 2s 38ms/step - loss: 0.0705 - accuracy: 0.9804 - val_loss: 0.4197 - val_accuracy: 0.8639\n",
            "Epoch 15/20\n",
            "49/49 [==============================] - 3s 60ms/step - loss: 0.0696 - accuracy: 0.9798 - val_loss: 0.4367 - val_accuracy: 0.8628\n",
            "Epoch 16/20\n",
            "49/49 [==============================] - 2s 38ms/step - loss: 0.0630 - accuracy: 0.9828 - val_loss: 0.4711 - val_accuracy: 0.8560\n",
            "Epoch 17/20\n",
            "49/49 [==============================] - 2s 39ms/step - loss: 0.0593 - accuracy: 0.9843 - val_loss: 0.4751 - val_accuracy: 0.8592\n",
            "Epoch 18/20\n",
            "49/49 [==============================] - 2s 39ms/step - loss: 0.0525 - accuracy: 0.9863 - val_loss: 0.4914 - val_accuracy: 0.8588\n",
            "Epoch 19/20\n",
            "49/49 [==============================] - 4s 73ms/step - loss: 0.0494 - accuracy: 0.9883 - val_loss: 0.5171 - val_accuracy: 0.8541\n",
            "Epoch 20/20\n",
            "49/49 [==============================] - 2s 48ms/step - loss: 0.0445 - accuracy: 0.9893 - val_loss: 0.5671 - val_accuracy: 0.8480\n"
          ],
          "name": "stdout"
        },
        {
          "output_type": "display_data",
          "data": {
            "image/png": "[encoded data removed]",
            "text/plain": [
              "<Figure size 432x288 with 1 Axes>"
            ]
          },
          "metadata": {
            "tags": [],
            "needs_background": "light"
          }
        },
        {
          "output_type": "display_data",
          "data": {
            "image/png": "[encoded data removed]",
            "text/plain": [
              "<Figure size 432x288 with 1 Axes>"
            ]
          },
          "metadata": {
            "tags": [],
            "needs_background": "light"
          }
        }
      ]
    },
    {
      "cell_type": "code",
      "metadata": {
        "id": "Vz8xcpIoDURP"
      },
      "source": [
        "epochs = range(1, 21)\n",
        "Layer1_model_val_loss = Layer1_model_hist.history['val_loss']\n",
        "\n",
        "\n",
        "Layer1_model_val_acc = Layer1_model_hist.history['val_accuracy']\n",
        "\n",
        "import matplotlib.pyplot as plt\n",
        "\n",
        "# b+ is for \"blue cross\"\n",
        "plt.plot(epochs, val_loss, 'b+', label='Original model')\n",
        "# \"bo\" is for \"blue dot\"\n",
        "plt.plot(epochs, Layer1_model_val_loss, 'bo', label='Layer 1 model')\n",
        "plt.xlabel('Epochs')\n",
        "plt.ylabel('Validation loss')\n",
        "plt.legend()\n",
        "\n",
        "plt.show()\n"
      ],
      "execution_count": null,
      "outputs": []
    },
    {
      "cell_type": "code",
      "metadata": {
        "id": "m5RVQRyGDXD6"
      },
      "source": [
        "# b+ is for \"blue cross\"\n",
        "plt.plot(epochs, val_acc, 'b+', label='Original model')\n",
        "# \"bo\" is for \"blue dot\"\n",
        "plt.plot(epochs, Layer1_model_val_acc, 'bo', label='Layer 1 model')\n",
        "plt.xlabel('Epochs')\n",
        "plt.ylabel('Validation Accuracy')\n",
        "plt.legend()\n",
        "\n",
        "plt.show()\n"
      ],
      "execution_count": null,
      "outputs": []
    },
    {
      "cell_type": "code",
      "metadata": {
        "id": "gDfbNCLIEr_A"
      },
      "source": [
        "We can see that at epoch 4 we have the highest accuracy."
      ],
      "execution_count": null,
      "outputs": []
    },
    {
      "cell_type": "code",
      "metadata": {
        "colab": {
          "base_uri": "https://localhost:8080/"
        },
        "id": "HiUxHQuTEJLI",
        "outputId": "ff84a3ac-fba1-493e-a245-128d6696905e"
      },
      "source": [
        "Layer1_model = models.Sequential()\n",
        "Layer1_model.add(layers.Dense(16, activation='relu', input_shape=(10000,)))\n",
        "Layer1_model.add(layers.Dense(1, activation='sigmoid'))\n",
        "\n",
        "Layer1_model.compile(optimizer='rmsprop',\n",
        "              loss='binary_crossentropy',\n",
        "              metrics=['accuracy'])\n",
        "\n",
        "Layer1_model.fit(x_train, y_train, epochs=4, batch_size=512)\n",
        "results = Layer1_model.evaluate(x_test, y_test)"
      ],
      "execution_count": null,
      "outputs": [
        {
          "output_type": "stream",
          "text": [
            "Epoch 1/4\n",
            "49/49 [==============================] - 2s 27ms/step - loss: 0.5246 - accuracy: 0.7573\n",
            "Epoch 2/4\n",
            "49/49 [==============================] - 1s 27ms/step - loss: 0.2718 - accuracy: 0.9109\n",
            "Epoch 3/4\n",
            "49/49 [==============================] - 1s 27ms/step - loss: 0.2117 - accuracy: 0.9311\n",
            "Epoch 4/4\n",
            "49/49 [==============================] - 1s 27ms/step - loss: 0.1760 - accuracy: 0.9428\n",
            "782/782 [==============================] - 1s 2ms/step - loss: 0.3042 - accuracy: 0.8756\n"
          ],
          "name": "stdout"
        }
      ]
    },
    {
      "cell_type": "markdown",
      "metadata": {
        "id": "aqQFcv-jDoAz"
      },
      "source": [
        "Building Model with 3 Layers"
      ]
    },
    {
      "cell_type": "code",
      "metadata": {
        "colab": {
          "base_uri": "https://localhost:8080/"
        },
        "id": "WZpRzlMYDrO6",
        "outputId": "798ea61f-e82f-4d22-d74d-11a79ddb3cba"
      },
      "source": [
        "#Building the model with 3 layers\n",
        "\n",
        "from keras import models\n",
        "from keras import layers\n",
        "\n",
        "Layer3_model = models.Sequential()\n",
        "Layer3_model.add(layers.Dense(16, activation='relu', input_shape=(10000,)))\n",
        "Layer3_model.add(layers.Dense(16, activation='relu'))\n",
        "Layer3_model.add(layers.Dense(16, activation='relu'))\n",
        "Layer3_model.add(layers.Dense(1, activation='sigmoid'))\n",
        "\n",
        "\n",
        "Layer3_model.compile(optimizer='rmsprop',\n",
        "              loss='binary_crossentropy',\n",
        "              metrics=['accuracy'])\n",
        "\n",
        "\n",
        "Layer3_model_hist = Layer3_model.fit(x_train, y_train,\n",
        "                                       epochs=20,\n",
        "                                       batch_size=512,\n",
        "                                       validation_data=(x_test, y_test))\n",
        "\n"
      ],
      "execution_count": null,
      "outputs": [
        {
          "output_type": "stream",
          "text": [
            "Epoch 1/20\n",
            "49/49 [==============================] - 3s 46ms/step - loss: 0.5668 - accuracy: 0.7615 - val_loss: 0.3549 - val_accuracy: 0.8745\n",
            "Epoch 2/20\n",
            "49/49 [==============================] - 2s 38ms/step - loss: 0.2845 - accuracy: 0.9038 - val_loss: 0.2837 - val_accuracy: 0.8902\n",
            "Epoch 3/20\n",
            "49/49 [==============================] - 2s 39ms/step - loss: 0.1971 - accuracy: 0.9320 - val_loss: 0.3148 - val_accuracy: 0.8756\n",
            "Epoch 4/20\n",
            "49/49 [==============================] - 2s 39ms/step - loss: 0.1661 - accuracy: 0.9400 - val_loss: 0.2975 - val_accuracy: 0.8845\n",
            "Epoch 5/20\n",
            "49/49 [==============================] - 2s 39ms/step - loss: 0.1404 - accuracy: 0.9512 - val_loss: 0.3521 - val_accuracy: 0.8680\n",
            "Epoch 6/20\n",
            "49/49 [==============================] - 2s 39ms/step - loss: 0.1197 - accuracy: 0.9606 - val_loss: 0.3514 - val_accuracy: 0.8742\n",
            "Epoch 7/20\n",
            "49/49 [==============================] - 2s 39ms/step - loss: 0.1066 - accuracy: 0.9647 - val_loss: 0.3891 - val_accuracy: 0.8709\n",
            "Epoch 8/20\n",
            "49/49 [==============================] - 2s 38ms/step - loss: 0.0886 - accuracy: 0.9718 - val_loss: 0.4164 - val_accuracy: 0.8675\n",
            "Epoch 9/20\n",
            "49/49 [==============================] - 2s 38ms/step - loss: 0.0809 - accuracy: 0.9744 - val_loss: 0.4444 - val_accuracy: 0.8621\n",
            "Epoch 10/20\n",
            "49/49 [==============================] - 2s 39ms/step - loss: 0.0722 - accuracy: 0.9790 - val_loss: 0.4784 - val_accuracy: 0.8644\n",
            "Epoch 11/20\n",
            "49/49 [==============================] - 2s 39ms/step - loss: 0.0604 - accuracy: 0.9817 - val_loss: 0.5017 - val_accuracy: 0.8626\n",
            "Epoch 12/20\n",
            "49/49 [==============================] - 2s 39ms/step - loss: 0.0512 - accuracy: 0.9858 - val_loss: 0.5644 - val_accuracy: 0.8522\n",
            "Epoch 13/20\n",
            "49/49 [==============================] - 2s 39ms/step - loss: 0.0440 - accuracy: 0.9873 - val_loss: 0.5741 - val_accuracy: 0.8591\n",
            "Epoch 14/20\n",
            "49/49 [==============================] - 2s 38ms/step - loss: 0.0370 - accuracy: 0.9899 - val_loss: 0.6151 - val_accuracy: 0.8576\n",
            "Epoch 15/20\n",
            "49/49 [==============================] - 2s 39ms/step - loss: 0.0261 - accuracy: 0.9935 - val_loss: 0.8023 - val_accuracy: 0.8298\n",
            "Epoch 16/20\n",
            "49/49 [==============================] - 2s 39ms/step - loss: 0.0323 - accuracy: 0.9892 - val_loss: 0.7060 - val_accuracy: 0.8529\n",
            "Epoch 17/20\n",
            "49/49 [==============================] - 2s 38ms/step - loss: 0.0206 - accuracy: 0.9948 - val_loss: 0.8594 - val_accuracy: 0.8344\n",
            "Epoch 18/20\n",
            "49/49 [==============================] - 2s 39ms/step - loss: 0.0175 - accuracy: 0.9956 - val_loss: 0.8073 - val_accuracy: 0.8530\n",
            "Epoch 19/20\n",
            "49/49 [==============================] - 2s 39ms/step - loss: 0.0144 - accuracy: 0.9964 - val_loss: 0.8553 - val_accuracy: 0.8504\n",
            "Epoch 20/20\n",
            "49/49 [==============================] - 2s 39ms/step - loss: 0.0133 - accuracy: 0.9964 - val_loss: 0.8936 - val_accuracy: 0.8500\n"
          ],
          "name": "stdout"
        }
      ]
    },
    {
      "cell_type": "code",
      "metadata": {
        "colab": {
          "base_uri": "https://localhost:8080/",
          "height": 279
        },
        "id": "1Axn5PrcDvOg",
        "outputId": "105f2b9f-157e-4473-e7eb-9402c9440007"
      },
      "source": [
        "epochs = range(1, 21)\n",
        "Layer3_model_val_loss = Layer3_model_hist.history['val_loss']\n",
        "\n",
        "\n",
        "Layer3_model_val_acc = Layer3_model_hist.history['val_accuracy']\n",
        "\n",
        "import matplotlib.pyplot as plt\n",
        "\n",
        "# b+ is for \"blue cross\"\n",
        "plt.plot(epochs, val_loss, 'b+', label='Original model')\n",
        "# \"bo\" is for \"blue dot\"\n",
        "plt.plot(epochs, Layer3_model_val_loss, 'bo', label='Layer 3 model')\n",
        "plt.xlabel('Epochs')\n",
        "plt.ylabel('Validation loss')\n",
        "plt.legend()\n",
        "\n",
        "plt.show()\n"
      ],
      "execution_count": null,
      "outputs": [
        {
          "output_type": "display_data",
          "data": {
            "image/png": "[encoded data removed]",
            "text/plain": [
              "<Figure size 432x288 with 1 Axes>"
            ]
          },
          "metadata": {
            "tags": [],
            "needs_background": "light"
          }
        }
      ]
    },
    {
      "cell_type": "markdown",
      "metadata": {
        "id": "TLGbKrFNX-0F"
      },
      "source": [
        "It looks like our original model was performing better."
      ]
    },
    {
      "cell_type": "code",
      "metadata": {
        "colab": {
          "base_uri": "https://localhost:8080/",
          "height": 279
        },
        "id": "qCnk9N0UDylS",
        "outputId": "3f855fd1-c1ad-4d1e-eefa-ec8b46bed26e"
      },
      "source": [
        "# b+ is for \"blue cross\"\n",
        "plt.plot(epochs, val_acc, 'b+', label='Original model')\n",
        "# \"bo\" is for \"blue dot\"\n",
        "plt.plot(epochs, Layer3_model_val_acc, 'bo', label='Layer 3 model')\n",
        "plt.xlabel('Epochs')\n",
        "plt.ylabel('Validation Accuracy')\n",
        "plt.legend()\n",
        "\n",
        "plt.show()\n"
      ],
      "execution_count": null,
      "outputs": [
        {
          "output_type": "display_data",
          "data": {
            "image/png": "[encoded data removed]",
            "text/plain": [
              "<Figure size 432x288 with 1 Axes>"
            ]
          },
          "metadata": {
            "tags": [],
            "needs_background": "light"
          }
        }
      ]
    },
    {
      "cell_type": "code",
      "metadata": {
        "id": "HvfxUAxaFY_y"
      },
      "source": [
        "Here too, our model performs best at epoch=4."
      ],
      "execution_count": null,
      "outputs": []
    },
    {
      "cell_type": "code",
      "metadata": {
        "colab": {
          "base_uri": "https://localhost:8080/"
        },
        "id": "qC2SPrTOFdof",
        "outputId": "a45cf5c9-806a-4c3b-d286-94914951dc1d"
      },
      "source": [
        "Layer3_model = models.Sequential()\n",
        "Layer3_model.add(layers.Dense(16, activation='relu', input_shape=(10000,)))\n",
        "Layer3_model.add(layers.Dense(16, activation='relu'))\n",
        "Layer3_model.add(layers.Dense(16, activation='relu'))\n",
        "Layer3_model.add(layers.Dense(1, activation='sigmoid'))\n",
        "\n",
        "Layer3_model.compile(optimizer='rmsprop',\n",
        "              loss='binary_crossentropy',\n",
        "              metrics=['accuracy'])\n",
        "\n",
        "Layer3_model.fit(x_train, y_train, epochs=4, batch_size=512)\n",
        "results3 = Layer3_model.evaluate(x_test, y_test)"
      ],
      "execution_count": null,
      "outputs": [
        {
          "output_type": "stream",
          "text": [
            "Epoch 1/4\n",
            "49/49 [==============================] - 2s 24ms/step - loss: 0.5711 - accuracy: 0.7361\n",
            "Epoch 2/4\n",
            "49/49 [==============================] - 1s 24ms/step - loss: 0.2691 - accuracy: 0.9124\n",
            "Epoch 3/4\n",
            "49/49 [==============================] - 1s 25ms/step - loss: 0.1969 - accuracy: 0.9314\n",
            "Epoch 4/4\n",
            "49/49 [==============================] - 1s 24ms/step - loss: 0.1646 - accuracy: 0.9413\n",
            "782/782 [==============================] - 2s 2ms/step - loss: 0.2986 - accuracy: 0.8831\n"
          ],
          "name": "stdout"
        }
      ]
    },
    {
      "cell_type": "markdown",
      "metadata": {
        "id": "UFQ2B6yGGtn4"
      },
      "source": [
        "For The Test Data, Here are my Observations:"
      ]
    },
    {
      "cell_type": "markdown",
      "metadata": {
        "id": "f4p1sOMmErkR"
      },
      "source": [
        "![Accuracy was Highest and Loss was Lowest at No. of Layers =2.png](data:image/png;base64,iVBORw0KGgoAAAANSUhEUgAAAlgAAAFzCAYAAADi5Xe0AAAty0lEQVR42u3dCXRU5d3HcTgeKMix9D2FQ0GEY0WMhS5CqykFFyhW0dC3Vlq1YoNLaVm0FFSKqUpEEY0RBUWKUlfQAAIJytoSFkExCAQVkC0gEiT7MtmT/8v/6XvHyWSWe2cmmsl8P+c8B+bOnZu5z91+97nPvdNGAAAAEFFtqAIAAAACFgAAAAELAACAgAUAAAACFgAAAAELAACAgAUAAAACFgAAAAELAACAgAUAAAACFgAAAAELAACAgAUAAEDAAgAAAAELAACAgAUAAEDAAgAAAAELAACAgAUAAEDAAgAAAAELAACAgAUAAEDACuTFF1+Ue++9V1566SVqO0Z88MEHZpmvW7fO7zgVFRVmnJSUFPewV1991QwrLS11/Ddffvll89ny8vJvbL4LCwvlxIkTLXKZWPWtdRzMO++8Y8bduXMnK3MziZU6bs5twsm0//Of/5j6njt3rjQ0NPgcp76+3ozzzDPPtMi63Lt3rzz55JPy97//XR599FE5ffo023AsByw9UN5///1mQeu/xcXF1DgBq1UGrCNHjsi0adPMvBOwQB037zbhdNpWwNKyffv2qAtYul/TYGXNgxbdptmGYzhgbdq0ySxkqxVr/fr11DgBy2/ACsc3HbB0R6Z/n4AFAlbzbxNOp+0ZsB588EEpKyuLqoClgdK6ElRZWSk1NTVsw7EesFJTU03L1Zdffin33XefPPbYY36bZ0HAImARsAhYBKzmDFivv/66+feNN96IqoD12WefOWqkYBtu5QHr5MmTZgE/99xz5vULL7xgXuuK4u8AkJGRITNnzjRNoRrG9ACtK73T8RYsWGD+Vm1trc+DjB6MLQsXLjTTOHXqlLm+/cADD8ibb77pfj8nJ8cclB555BGZOnWqJCUlmev4u3fvdjwPunH42yno5VMNob42fItu+Dpd7/nS4TrdQ4cONRqenp5uhhcUFDiaFw3BGzduNAFZm+H1jG/+/Pmyb9++Zg1Yvi4R6ndftGiRTJ8+Xf7xj3+Y/+tn9XNz5sxpErD0zFT/7owZM8x313EOHDjQ5O/rWeCqVavMstK60PHffvvtJgHNTl3od/JsuteiJxXB2F0eOm86/9rn4pVXXjHfQdcDHdfXMsnLyzMHkocfftiMu2LFClMvzRWwdNrLly83/UKsuly2bJmUlJSEtF6Fs/5FyzbSHHUc7rxHyzYRyrStgLVr1y7517/+Zf7vvV/wF7Dsrt+hsDNtrWfv+V2zZk1E1y879e70+GV3fQp0DA53O2u1AUuDhi6M9957z7zesWOH+wzCm1b4448/3mQl0rJ06VLH4zkNWLrg9YBtTUtXTvXpp5+6+5D5KgcPHnT03YqKisxKqGHT2+bNm824+jf9Wbt2bZMdpa7E1nf0Prt56qmnzArrdF5Wr17tcxz97nZW7EgFLN3xa7Dw/h4amp544gmfAUsDiK/vffz48UZ/23N5exbdGXhePrBTF6Hs8J0sD5033bk89NBDPr+HZ0dfDWEarLzHsw4qkQ5Yuk7r9uNrHnRnbR28naxX4ax/0bKNNEcdhzPv0bRNhBuwtD71IK77a89Lbb4ClpP12ym7027ugGW33p0cv5ysT4GOweFuZ60yYOmKmpycbFKry+Uyw6qrq81KrcO8E6wGEK20Z5991iRpHffYsWPuwPL55587Gs9pwNJhurPRFVq/u9XiNHv2bHNg07s3dEdVV1dnxrG+x+LFix3Pg6ZvXTm8O/zr2YIeQPVv+KPT8w4uupJZK53Ot0XPgHSYnkE4mRcdrmfBGmC0FVLrsKqqSj766COzEWp/OrsBy04JFLCsUKD9DnQHqstPv4eexVhByztgaSuX7lS0/vUuI/2sDtczJ+9lpTtqPWvSedS6WLlyZaPLB07qwuklCyfrljVvun7o39bx/c2bVWf6GQ1bWmf63bRemiNgWduPtlRriNV618BntVjr+u6kLsNd/6JlG2mOOg5n3qNtmwj1EqEGLGX1D9YDeKCAZbfuQ+Fk2tYlwg0bNkS8hdRJvds9ftldnwIdgyOxnbXKgLV//36fO/O33nrLDNe067lS6wFTmyS97x7T5Kzj65mZ3fFCDVh79uxx1Kzr+egJJ9/N2jFkZmY2aV7VpuFAtLlUWyfmzZvnHqY7SF3ZNGzoQdQKh9bf8b4sEGxedCO3zjI0KHpfonVyiTCcgKXBXOdLm469l6PuJP0FrPfff7/RuPn5+e4bLawDhO5M9KzQV3/Af/7zn+bvaj04qYtI9TfxXh6e8+Y9bb0U6HngtFor9HKDd51Z3y+SAUuXka63ejKlOz5P2jKgy06no2HQbl2Gu/5FyzbSHHUc6rxH4zYRbsDS763BQk/4NQD4ClhO6t4pp9NuzoAVSr0HOn45WZ8CHYMjsZ21yoCl6dTX5S7rTgjPg6omVu+zK1/sjhdqwArU1KutJ7rwdSPVNG+t/NZ3cfLddOPRIPb00083aV7V+glGzwg01VtN29pipjtP6/r4F198YYbr9/TcodqdF2WdQWnRDUU3CL3Ua7cDeSQuEVrBVPsn+GohtQ4a3iFEA5X3AVc3fqsvoNU3MFjR1gAndRHqwcTO8vA3b7p+63CryV53Qvp6yZIlPtc7rYdIBiw9OPv7e8o6W/34448d1WW46180bCPNVcehzHs0bhPhBiylrUbWvkH3E94By2ndO+F02l9HwLJT73aOX07Xp0DH4HC3s1YXsDSNa0UEq1w9GCi9dKavPTuW+2J3vEABS88a/AUsX88U0RVONz5/82CteE6+m0pLS2vUb0B3gNrqYOcOS20eta6La8LXoKHX4w8fPtyoz5tew/fs72Z3XpQGHK0j3fl4jqPLNSsr62sJWNq5MtAORefPV8DyteFpHVkBy6qnYEVbYZ3UhdMdvpPl4W/erAOC1WJhXQ7y1z9DD6iRDFi68w+0nPUs1/OgZrcuw13/omEbaa46DmXeo3GbiETAUnoCZ7V8ewcsp3XvhNNpN2fAclLvdo5fTtenQMfgcLezVhewrM7swYouJKX9ROy0/tgdT1nP3bKaIL0vF9kJWLqxadOkvqdNyXpGsXXrVnMQy83NbfRdnHw3z5Y83bisjoNWpz67Tcvad8C6FGs182sft9dee819BmGtgE7mxZP209Adj54V6wak4+nZcaAH3EUqYFlhwbN/kZ0WrGABywrDvm62CCRYXTjZ4TtdHnYDltWCpZfifbVgRfoSodXK6O8sXO9e9HW3lt31KtT1Lxq2keaq41DmPRq3iUgFLL2srh2stYuH1S/NClihrt92OJ12cwWsUNb7YMcvp+tToIAV7nbW6gKW7uwDLVgr3erGrq1duoA1jerZtfcBRCtVD466oOyOp6yOvta1dYsuILsByzpYaZOkd8uS1QfI6oTo5LtZtPO7rtDWhq87Pbs0WOhGoRun/l2rpU6vletrXQl1pbe+i5N58Uc/Z7UMWh32mzNgabGenebdEqmdMf31wQoWsDRoaL8L7ZAZajOzr7pwssN3ujzsBizdnnTefPXrsKYbyYCl3ydQPxJrR6g74XDXKyfrXzRsI81Zx07nPRq3iUgFLJWdnd3oGVlWwIrE+h2p5dpcASvU9T7Q8cvp+mQnYIWzL2g1AUs75OlKo2cD3gdFT3q3gGeHZKvzux4EtcJ0AekCs5otrc5vdseznu+iK43VwVZXFv1eerC1E7Cs9K4rul6r1zNA7cynK7j1kwV654TF7nezWH0idANz+rBN67M6L55nF9adMd7hw8m86PtWvx79nC5HnRc947KekWLdGdqcAcs6IFiBWJuj9WxTw5X16IZQApaybvPWHakGfp0//T56WdJ6dpT+LSd1Ye2MdN0L1hnT6bplN2Apq/+j7hT17+h86AFE5yvSfbA8t5/nn3++0Z1Q+vc9+4fZrctIrH/RsI00Rx2HOu/RuE04mXawgOVZx/7uIrRb9044mXZzBSyn9W73+GV3fQp0DI7UvqDVBCxdKFoh2rwZyLZt29yPNFB6t4LVoc67eIYhu+PpSurruR5666g2B9u9RGg9oM9f0ZXL6XezWE2r+r5u/E5YTbDed3N4di703BCdzovVAuireN7W3NwBS++Ssx7J4KvYCSG+ApYuK6tZ3NfzVTyv7dutC89+B9o6G+i5PE6Xh5OApS2m1tmvZ9Gzc/1eTgJWoGL9npuewOjOzt88eHbMt1uX4a5/0bCNNFcdhzLv0bhNOJm2nYCldazT8Q5YTupebyDQ4Xr3nN0GCbvTDjVgBVu/nNa73eOXk/UpUAtWJPYFrSZg6fMq7Fzu0qRuPZdHk6m1QLS/jQYg6/Z87Zzp3RJmdzxNuXpQ1SZxXYmtRz3YDVhKD/TacV0/o2lem0X1QZZ6fdo6y/D8RXO7382i4UJXNqe3+WoTqa70+vc9HzKpw63WHe9fmXcyL3qWoBuytjTqctI61I1Q+9fZ6YgfySe5645Tl5d+Dy26TD/55BN3C2UoActqotezX11G1mU1bTHzvmXfbl3o//U2Zet7BnsInpPl4SRgWSFL+zhaT7/Xv6Pz0RwBy/p7Ou86L1qXWqfaedj7kSV26zLc9S8atpHmquNQ5z3atgmn0w4WsJTVsdz7Se52695pwHIy7eYKWKEc5+wev+yuT4GOwZHYF7SagAX7Aj0VF4FZj8Xw1ZkbAMDxi4AVg/SasbZ0WT/pov1j4Ju2uOj1ej3j0TMZbQnUyx9WvzZ+yBQAOH4RsGB4/vaU3oURDc2c3xTr5xZ8FW26pu4AgOMXAQuGPodGryNr02oot/fGEu1jpA9G1Gvu2tld602vxWt/ikC/2QgA4PhFwAIAACBgAQAAgIAFAABAwAIAACBgAQAAoCUFLH1wpD5J1vp9IX3a8OLFi81wAAAAApZD+lMo/n5vTn+NW3+PDgAAgIDlgPU7a/qzJ/p7R/rEbv1NJ/19NR2uP/YIAABAwLJJnwKrPy6pv7rt/URY/eFH/XFHfZ+nxQIAAAJWhOij+PUHJfWJ3gAAADEbsDx/q8hfWblyZdDpVFZWmh/71Z9GAQAAIGBFIGAtX77cjPv++++zlAAAQGwHrEjQH/jVcLVgwQL6XwEAAAJWuDZu3GjC1Zw5c8xlQgAAgJgPWKFeItSO7MuWLTPvv/TSS1JdXc3SAQAABKxQA5Y++0qfd6XvrVixgrsGAQAAASscGqa0xUofx6B9rwAAAAhYYVqzZo1pudq0aRNLAwAAELDCVVZWZp7UHuySoj7VHQAAgIBlw8cffxw0XBGwAAAAAQsAAICABQAAAAIWAAAAAQsAAICABQAAAAIWAAAAAQsAAICABQAAAAIWAAAAAQsAAICABQAAAAIWAAAAAQsAAICABQAAQMACAAAAAQsAAICABQAAQMACAAAAAQuIGRv21sre43VURIRVbVgtNXt3UREACFhArKmobpAbZ7vkTy9WSF196NOpr6+XAQMGSGJiIpV6RkOFS/JHXSOFf/qDSJ3z8Hr8+HHp0aOH1NbWUpkAAQtAtFmYWS1DHy035d3doR/MN23aJNdcc43ExcXJl19+GfP1Wr5wnpwe9jNTKt9dScACQMACYkVucYNcM6vcHbC0JaussiGkaU2cOFEef/xxueOOO+TZZ59t9N4777wjv/jFL+SCCy6QW2+9VQoLC/0O/+CDD+Sqq65yf1Zf//KXvzT/37lzp4wYMUKuv/5601pWWVkpzz33nAwePFh69+4tl19+uWzfvj3g37377rslNTXVPc6aNWvk5ptvjmi91uWelLxrf+EOWNqS1VBWGtGAtXbtWrniiiukb9++ctttt0lubq4ZruPfc889ctFFF0l8fLw888wzAYcDIGABiLCHl1W5w5VVXthQ7Xg65eXl5kB/9OhRE1h+/vOfS0PDf4PasWPHpE+fPvLvf/9bioqKZPLkyab4Gx4sYGno2LBhg+Tl5UlWVpYJC59//rlUVFRIcnKy/Pa3vw34d7ds2SJDhw51T/9vf/ubvPHGGxGt15LpU93hyirl850FmkABS+v54osvlo0bN0pJSYlMnTpVbrjhBvPe8uXL5Xe/+52UlpZKTk6O/OQnP5H9+/f7HQ6AgAUggnbn1DUJV1qGzyyXE4XOOmMtWbJExowZY/6vwWrIkCHy3nvvmdcLFy6U22+/vcln/A0PFrD69evn8zvk5+fLCy+84A5P/qavfcV++tOfysGDB8131ZawgoKCiNVrze6sJuHKlKvjpe7E8YgELJ1PbYmzaEuetuCdOnVK1q1bZ8LTq6++6m7VUv6GAyBgAYgQ7cyundp9BSwt096qdDQ9bRnRMOBZxo8fb9578sknJSkpqcln/A0PFrCuvPJK93saPh544AHp37+/6fulfcCsz/qbvnrsscfMZUKd3k033RTBiq0zndp9BqwzpfiBSREJWA899JDMmjWr0TANirt2/feORb1seumll8q5555rLo0WFxcHHA6AgAUgAjI+qvUbrqyy47C9O99Onjxp+vVUV391afHEiRPy/e9/3xzAtcXkzjvvbPI5f8M//PBD06fKsnr16kYByzN8vfzyy/KrX/3KXA5U69evd7/vb/pKW6/0czNmzJDXXnstYvVambHMb7iySvWH28MOWHPnzm3UgqWXR7UFSz/jad++fabP2oIFC2wNB0DAAhAi7cT+m6ddQQNW4gv2HtswZ84cGTt2bJPhCQkJ8tJLL8kXX3xhAtjmzZtNf6HZs2ebTtn+husdiL169ZKtW7fK6dOnTYd2fwFLO2prnyvtV3T48GHTgjVo0CDznr/pW6677jrT8qWXFiNBO7Hn3zA8aMAqSBxl67ENgQLWkSNHTJ+3zMxMM+/aB0sDo3r++efNozI03Oqlz5EjR8qiRYv8DgdAwALQAukluxUrVjQZrq0jw4YNM//X/j96h5/ezad37Fl9gPwN1z5GP/rRj2TgwIEmpPkLWBoUNGDp56+++mpJT0+X888/X8rKygJOX+llQr202VJZAcu7bNu2zbz/7rvvmnnTlkKdN6v1qqqqylye1XCpIezee+81Ic3fcAAELAAIW01NjWm10suQK1eupEIAELAAIFx6WU1bcO6//373oyQAgIAFAABAwAIAAAABCwAAgIAFAABAwAIAAAABCwAAgIAFAABAwAIAAAABCwAAgIAFAABAwAIAACBgAQAAgIAFAABAwAIAACBgAQAAoCUFrClTpsjMmTP9vp+ZmSlxcXHSsWNHGT16tFRVVdl6DwAAIOYCVmVlpUyaNEnatGnjN2C5XC7p2rWrLF26VPLz8yUhIUGSkpKCvgcAABCTAevWW2+VUaNGmX/9BayMjAyJj493v87OzpZevXoFfQ8AACAmA1Zubq75d/z48X4DVmpqqiQmJrpf6yVAbfEqLy8P+B4AAEBMBixLoICVnJws48aNazSsbdu2kpeXF/A9AAAAApafgJWSkiJjxoxxv7ZaqSoqKgK+58vJkyclKyuLQqFQKBQKJayimSKqA1Z6eroMHjzY/XrPnj3Ss2fPoO8BAADQguUnYGl/qi5dukhaWpr7TkF9rEOw9wAAAAhYXgGrW7du5i5BtWXLFunfv7906tTJ3HWoj2ewBHoPAAAgZgMWAAAAAQsAAAAELAAAAAIWAAAAAQsAAAAELAAAAAIWAAAAAQsAAAAELAAAAAIWAAAAAQsAAAAELAAAAAIWAIQit7hByiobqAhEtYJy1mECFlqV6lrqANHtkeVVsuA/1VQEopaeINwy12VOFkDAQitworBe7l9cSUUgau3OqZOhj5bL8JnlZn0GopGeIOh6/PCyKiqDgIXWYNpblWaj3nqgjspA1Kk7k6f+9GKFWYe16PoMROOJ7jWzyt3rsZ40gICFKLbjcJ17gx79fAWXChF13t1d616HrbLzKAcnRJd/LKlstA7f8c8Kc/IAAhai9Mw/8YWKRhv14m01VEwU0j4b4Za9x+vMWXM4ZcPeWlmbHV7RdfCVzfaKXlIZ8YSrScD6TapL/rXJ/nQoFC0rsmrCXn9DKfP//9Kgd8n4iDNeAhai0rIdNU026OuedMnm/bU+D56b9oW/I9G/Ge5O8IUN1TIroyqson0cJr1eGVaZ8HKF6ZAaTvn9sy6fO1YKhUL5zdMu7owlYCHaFLsaZORTHNxbSwk36Gm5+9XKsEOn3skXbvjVVik7QXvOumr55WP+6+SaWS7b06JQtDy7NvyTN6dl4iuVAbft59ZzZywBC1Hl6dVVATfqsQubHjy11SfcnYnuLMLdCaa9H34zvrbGhXs57JMT9WFfljtdytlpqPTO12DBU9dzoKXS1qlgJ7p6Z+yxfDpjEbAQFY6crjcbbaCNWi9/AS35wGQnjL++tYaOwmixth+ss3ViqieFIGAhCizMrLZ1uUdbaAAAAAELAACAgAUAAEDAAgAAAAELAACAgAUAAEDAAgAAIGABAACAgAUAAEDAAgAAIGABAACAgAUAAEDAAgAAIGABAACAgAUAAEDAAgAAiPWAlZmZKXFxcdKxY0cZPXq0VFVVNRnn6aefljZt2jQpn3/+uXl/4sSJjYYPHDiQJQUAAGIzYLlcLunatassXbpU8vPzJSEhQZKSkoJ+bty4cXLnnXe6Xw8bNkzWrVvH0gEAAASsjIwMiY+Pd7/Ozs6WXr16BfzMli1bpHv37lJaWuoepq9zc3NZOgAAgICVmpoqiYmJ7td6eVAv8ZWXl/v9zKBBg2TevHnu10VFRdKuXTsZPny4dOrUSYYMGSL79+9nSQEAgNgMWMnJyeZyn6e2bdtKXl6ez/E/+OAD6dKli1RWVrqHbd26VTp37mz+LSkpkcmTJ0u/fv2koaGBpQUAAGIvYKWkpMiYMWPcr60WrIqKCp/jT5gwQcaPHx9wmrW1tdK+fXvJycnx+f7JkyclKyuLQqFQKBQKJayimaJFBqz09HQZPHiw+/WePXukZ8+efse/4IILZM2aNQGnqeHsrLPOklOnThGHAQBA7LVgaV8rveSXlpbmvotwypQpPsctLCw0rVveaXHJkiXSp08fE86Ki4tl7NixMnToUJYUAACIzYCl9K7A/v37mw7qo0aNMo9usHTr1s3caag++ugj09fKl+nTp0uPHj2kQ4cOMmLEiIg22QEAAERdwAIAACBgAQAAgIAFAABAwAIAACBgAQAAgIAFAABAwAIAACBgAQAAgIAFAABAwAIAACBgAQAAgIAFAABAwAIAACBgAQAAELAAAABAwAIAACBgAQAAELAAAABAwAIAACBgAQAAELAAAABAwAIAACBgAQAAELAAAABAwAIAACBgAQAAELAAAAAIWAAAACBgAQAAELAAAAAIWAAAACBgAQAAELAAAAAIWAAAACBgAQAAELAAAAAIWAAAACBgAQAAREPAyszMlLi4OOnYsaOMHj1aqqqqfI43ceJEadOmjbsMHDjQ8TQAAABafcByuVzStWtXWbp0qeTn50tCQoIkJSX5HHfYsGGybt26sKYBAADQ6gNWRkaGxMfHu19nZ2dLr169fI7bvXt3yc3NDWsaAAAArT5gpaamSmJiovu1XtrTy3/l5eWNxisqKpJ27drJ8OHDpVOnTjJkyBDZv3+/o2kAAADERMBKTk6WcePGNRrWtm1bycvLazRs69at0rlzZ/NvSUmJTJ48Wfr16ycNDQ22pwEAABATASslJUXGjBnjfm21PlVUVAT8XG1trbRv315ycnIcT+PkyZOSlZVFoVAoFAqFElbRTNEiA1Z6eroMHjzY/XrPnj3Ss2fPoJ/T8HTWWWfJqVOnQp4GAABAq2zB0n5SXbp0kbS0NPcdgFOmTGky3pIlS6RPnz4mPBUXF8vYsWNl6NChjqYBAAAQEwFLbdmyRfr37286r48aNco8dsHSrVs3c5egmj59uvTo0UM6dOggI0aMaNQsF2gaAAAAMRewAAAACFgAAAAgYAEAABCwAAAACFgAAAAgYAEAABCw0NxqsndJ4R03SV7CFVJ8/0SpL/D9c0OVa1dJwR9+/d/xkv4m9UWFjqZRe3C/nB5+mVTv2PbVNNe/KwW33SB5110uRZP/LHUnT7BAAAAELES5ujrJH3WtVP17jTSUl0npUzOk5NGkpqPlHJG8/x0mtZ/tk4YKl5Q++YgZ1/Y0GhqkaMIYE8CsgFV76DPJ/80vpebTve5pFv/9HpYJAE54g53wBjg5rdq04czJ8Mgz++yhUjZ75pmdbY2t9wKdRIOABYdqD+yTgltGfhWkjueYDa9JwDp1Uqqz3ne/rn5/qxSOT7Q9jcp3lpvQVfiX0e6AVbNnp1Qsf6vRjqVg9G9YKGiRBybz/tbMM+vwbZI38qrGw4N8DojkCW+gk1Nd73UbqPnoQxOQiu65S1xvvhr0vYAn0SBgwbnq7VtMy5JFN6zTw34mDVVVfj/TUFoiJclTpXzh87amUV9SbA4+unF7BixvrtcXSmnKIywUtLgDkwlR72VK/k3XS/W2zeazlmCfAyJ9whvo5FS3geL7Jny1j9/5gRSOvTXoe4FOokHAQgj0zLvo7ju/CkfV1f8NR2WlPsfXlgF9X1sAGkpLbU1DD3YVS94w//cXsLR/Vv7vR0h93mkWClrcgcmsu3fdbEJUk20oyOeA5jzh9T451Rba4vu/Wh/rThw3JxXB3gt0Eg0CFiK5QddU+/2MthCUzU2RkgenBJ2GthQU3nmzaWHwF7DqT58yB0c9MAEt8cBUX1wkp381SEoemSZ5CVdK4Z9uMScFTg5aQKRPeH2dnGpLVN6IIVKzO8ucBJc8dJ97fQz0XqCTaBCwEMqZ/6EDZuP86sz/qLkO702H60bp/tzRw5L/26uDTqMk+e9mY/UursUvu8OaBjA9SAEt9cBk7oA9M72KFWkmvLkW/UsKEkeZmzfsHLSA5jjh9XdyWrl6pdk/59+cIGWzH5eCMaNsvefvJBoELISivt5soLrRmb4r2rFx1sNfHYQOfGr+rdm7S/Jv/JXUHj4oDZUVUj7/GSme9ldb0/DUqAWrtlaKpvyF/ipo8QcmvQSpwzy3m7xrf+EOZ3YOWkCkTnidnJzqyYC/zuqe7wU6iQYBCyGq+STb9C9x331VWPDfDbi0RPJvuNr9Wvuu6AFE774qnnq3OUgFm0aggKWdKH21bunBEmhJB6b64kITqNyBzQpYPtbzQAc0IBInvHZOTvWyduXq9DP78OEmLAV7L+BJNAhYADgwNdeBST9XPv9ZaXCVm0vc2g/L7gENiOQJb7CTU+37ah5Dcmad1ek1mn6A9wKdRIOABYADU7McmPRyoN4tmHf9FVJ09x1Sd+yorYMWABCwELK6ujpxuVxUBAAABCxESm1trZRySy9awYlC3f8/UgSIVuXl5VJfX09FELBAwAJahsrKSlOAaFZcXEzAImCBgAUQsAACFgELIGCBgAUQsEDAAgELIGCBgAUCFghYAAELIGARsAACFghYAAELBCwQsAACFghYIGCBgAUQsAACFgELsRWwqqqkeON6KgIELICABQIWIsW1comcHnmV+cFbIGoDVn6eVJaXUxGIaoUrlhCwCFhoDRrKSiX/huHmR3PLZs+kQhC9Z/7PPSUlS96gIhC1ag8dkNNXx0vlpg1UBgEL0a58/jMmXJlyZsOuPXqISkHUqTt+1Ky/tMQimhXdc5fZFxf8YaQ0VFdTIQQsRP1ByQpYZ0rR3/5MxSDqFE+9270O0xKLaFS1cV2jfbHr9YVUCgELreGg5FkK7vi9CVolD06R0iemh1zK5jwprlf+GXo5s4OpXLsqrFKzOyusUnfiuNTlngy5NFS4WNGaWfWH2xuvw7TEIspoa5W2Wnmux3nXXyH1BflUDgELUX9QorTIkvfroWbHG2opvOMmE5ZDLcX3jg8rZGsJK2SfKZXvrvQfolenS/6oa5vUW+Htvw87nIdUMpaFPb/fdClfOC/sZd4SSjjr/dddCv7wvz63/9KZD3KwImAhqtTVScFtNwQ8sJemzJCq9zLDOthUrEj7xnf0Ye/4ztRTOAFHz0IJihQKJdRS8+lejlkELESLirTXg7ec0DzdMi4dlJWGdYlSL5WFc4m0+qMdYbfqhNuiUvrUDJ/huWTGA3L6mkH+1+GEK6Xk8Ye+1lYT7f8V7S1Ykbg03xJKuN0Dvq5SfN+EgPvioglj2BESsBAtag98amvDrz/9JZWFFkvDTLATBdfiV6gotFg1e3fZasWq2rCayiJgAcDX07Lnr2XL+0YLvSQOtER6E42dk119PhZiJGBlZmZKXFycdOzYUUaPHi1VVVU+x5sxY4b07NlTzj77bBk6dKgcOvTVnT0TJ06UNm3auMvAgQNZUgAAIDYDlsvlkq5du8rSpUslPz9fEhISJCkpqcl4a9askYsuusiEqvLycpk0aZIMGjTI/f6wYcNk3bp1LB0AAEDAysjIkPj4ePfr7Oxs6dWrV9DP5ebmSrt27aShocG87t69uxkGAAAQ8wErNTVVEhMT3a/18qBe4isP8iOry5YtkwEDBpj/FxUVmbA1fPhw6dSpkwwZMkT279/PkgIAALEZsJKTk2XcuHGNhrVt21by8vL8fubYsWOmL9b69evN661bt0rnzp3NvyUlJTJ58mTp16+fu3ULAAAgpgJWSkqKjBnz1XM5rBasiooKn+MfOXJELrzwQlm0aJHfadbW1kr79u0lJyfH5/snT56UrKwsCoVCoVAolLCKZooWGbDS09Nl8ODB7td79uwxrVO+7Nu3T/r27SurVq0KOE0NZ2eddZacOnWKOAwAAGKvBUv7WnXp0kXS0tLcdxFOmTKlyXgFBQXSu3dv2bx5c5P3lixZIn369DHhrLi4WMaOHWse4wAAABCTAUtt2bJF+vfvbzqojxo1yjy6wdKtWzdzp+G0adMaPefKKmVlZWa86dOnS48ePaRDhw4yYsSIiDbZAQAARF3AAgAAIGABAACAgAUAAEDAAgAAIGABAACAgAUAAEDAAgAAIGABAACAgAUAAEDAAgAAIGABAACAgAUAAEDAAgAAIGABAAAQsAAAAEDAAgAAIGABAAAQsAAAAEDAAgAAIGABAAAQsAAAAEDAAgAAIGABAAAQsAAAAEDAAgAAIGABAAAQsAAAAAhYAAAAIGABAAAQsAAAAAhYAAAAIGABAAAQsAAAAAhYAAAAIGABAAAQsAAAAAhYAAAAIGABAABEQ8DKzMyUuLg46dixo4wePVqqqqocj2d3GgAAAK0+YLlcLunatassXbpU8vPzJSEhQZKSkhyNZ3caAAAAMRGwMjIyJD4+3v06OztbevXq5Wg8u9MAAACIiYCVmpoqiYmJ7td6aa9NmzZSXl5uezy70wAAAIiJgJWcnCzjxo1rNKxt27aSl5dnezy70wAAAIiJgJWSkiJjxoxxv7ZanyoqKmyPZ3calvnz58vAgQMpFAqFQqFQwiqaKVpkwEpPT5fBgwe7X+/Zs0d69uzpaDy70wAAAIiJFiztJ9WlSxdJS0tz3wE4ZcoUR+PZnQYAAEBMBCy1ZcsW6d+/v3Tq1ElGjRplHrtg6datm7lLMNh4gd4DAACIuYAFAABAwAIAAAABCwAAgIAFAABAwAK+ondxzpw5k4pAVJoxY4Z51MvZZ58tQ4cOlUOHDlEpiCrz5s0z67De+KXPiaysrKRSCFiIZroRT5o0yTzolYCFaLRmzRq56KKLTKjSR8Do+jxo0CAqBlEjKytLzjvvPNm1a5d5dNFVV11lThpAwEIUu/XWW81jMvRfAhZag9zcXGnXrp00NDRQGYhKc+bMkRtvvJGKIGAh2g9Gavz48QQstArLli2TAQMGUBGISseOHZPLLrtMFixYQGUQsNAaELDQWg5O2o9l/fr1VAaizuLFi82vnPTq1Us++eQTKoSABQIW8M07cuSIXHjhhbJo0SIqA1Ft4cKF0qNHD6mrq6MyCFggYAHfnH379knfvn1l1apVVAainv50nN54pB3eQcACAQv4RhQUFEjv3r1l8+bNVAai0tKlSyUuLk727t0rpaWlcu+998oll1xCxRCwQMACvjnTpk0zZ/vepaysjMpB1Jg+fbp0795dzjnnHLnuuuskJyeHSiFgAQAAELAAAABAwAIAACBgAQAAELAAAABAwAIAACBgAQAAELAAAABAwAIAACBgAQAAELAAAABAwAIAACBgAQAAELAAAAAIWAAAACBgAQAAELAAAAAIWAAAACBgAQAAELAAAAAIWAAAACBgAQAAELAAAAAIWAAgeXl50qZNG3n55ZcbDZ83b578+te/bra/O2nSJPnWt74lt912m3vY0aNHzXepra1lwQAgYAGI/oD14x//WIqLi7+2gHXOOefIzp07pb6+noAFgIAFoHUGrFdeeUXuvvtuvwFr5cqVcvHFF5tgdP3118uJEyeCTtvfZ84991zzN7UsX77cdsCaNWuW9O3bV9q3by9xcXGyadMmM1xbwaZPn+4eb8WKFXL11Veb/69fv15++MMfyre//W258cYbpbCw0Azfvn27XHrppRIfH2++T0lJifzxj380451//vny6KOPsnIABCwACC9gNTQ0yBVXXCHZ2dlNAtbBgwflf/7nf2TNmjVSVFQkf/nLX+Tyyy8PON1gn+nUqZPk5uY2+kyggLVt2zYTfHJycsTlcsmUKVPkyiuvNO9t2LBB+vfv7x739ttvlwULFsgXX3xhwp2GOG2dmzhxotxyyy3ugKV/a9WqVfLll1/KokWLZNiwYSZoHT58WL73ve/Jxx9/zAoCELAAIPSApXbv3i1XXXVVk4CVkpIio0ePdn+moqLCtCJpgPEn2GecBixPp0+fNtO3QpVeZjzvvPNk3759Jihqi5TO19y5cyUhIcH9OQ1m7dq1k+rqahOwvvvd77rfS09Pl+7du5v5ttM6B4CABQC2ApaaMGGCvPHGG40C1l//+ldJSkpq9DkNMTt27PA73WCfcRqwampqzHfr0qWLfOc735GBAwdKv3793O9PnTrVXCbU4DR8+HD3MOtSpGfR1jUd7wc/+EGjv6GXIHv37i1t27aVa6+91n05EQABCwDCClh6OU87vD/xxBPugPX44483ao3SliBtjdJA5E+wzzgNWM8995wMGDBAjhw5Yl5nZGQ0CljaeqXv33fffTJ//nwzbPbs2Y2+gycNWJ6f97R371752c9+Zj4PgIAFAGEHLLVw4UJzucwKWJ999pnpy7R27VrTl0n7U2mYCSTYZ5wGrBkzZpg+YtpH6sCBA6YFq0+fPo3Gueyyy0wLl15CVNpfq3PnzrJ69WrzOe2X1bNnT9Ma5h2wNFCOHDnStFppnQwaNEhefPFFVhCAgAUAkQlY2o9J767zvIvw7bffNnfudezY0dyh59l61a1bN9Oi5C3QZwIFLO+yceNG8z21U/vZZ58tl1xyibz11lvSoUMHKS0tdX9eLwlqR3VP7777rumrpd9BW6WysrLMcO+AVVlZaTrA612EGgzvuusuE8QAELAAICZpp3VttdJHOLz55ptUCAACFgCESy9DaqvTn//8Z9P6BgAELAAAAAIWAAAAAQsAAAAELAAAAAIWAAAAAQsAAICABQAAAAIWAAAAAQsAAICABQAAAAIWAAAAAQsAAICABQAAAAIWAAAAAQsAAICABQAAAAIWAAAAAQsAAICABQAAQMACAABApPwfYPnG421rum8AAAAASUVORK5CYII=)"
      ]
    },
    {
      "cell_type": "markdown",
      "metadata": {
        "id": "5yXRPuDRTsHm"
      },
      "source": [
        "##2. Using Layers with more or less hidden units."
      ]
    },
    {
      "cell_type": "code",
      "metadata": {
        "colab": {
          "base_uri": "https://localhost:8080/"
        },
        "id": "Nr6MoVI6G69K",
        "outputId": "f3e54820-e317-44a4-f963-035a3393ec89"
      },
      "source": [
        "#Building the model with 4 Hidden Units - Reducing the complexity.\n",
        "\n",
        "from keras import models\n",
        "from keras import layers\n",
        "\n",
        "Units4_model = models.Sequential()\n",
        "Units4_model.add(layers.Dense(4, activation='relu', input_shape=(10000,)))\n",
        "Units4_model.add(layers.Dense(4, activation='relu'))\n",
        "Units4_model.add(layers.Dense(1, activation='sigmoid'))\n",
        "\n",
        "\n",
        "Units4_model.compile(optimizer='rmsprop',\n",
        "              loss='binary_crossentropy',\n",
        "              metrics=['accuracy'])\n",
        "\n",
        "\n",
        "Units4_model_hist = Units4_model.fit(x_train, y_train,\n",
        "                                       epochs=20,\n",
        "                                       batch_size=512,\n",
        "                                       validation_data=(x_test, y_test))\n",
        "\n"
      ],
      "execution_count": null,
      "outputs": [
        {
          "output_type": "stream",
          "text": [
            "Epoch 1/20\n",
            "49/49 [==============================] - 3s 43ms/step - loss: 0.6418 - accuracy: 0.5849 - val_loss: 0.5572 - val_accuracy: 0.7329\n",
            "Epoch 2/20\n",
            "49/49 [==============================] - 2s 34ms/step - loss: 0.5192 - accuracy: 0.8149 - val_loss: 0.5035 - val_accuracy: 0.8230\n",
            "Epoch 3/20\n",
            "49/49 [==============================] - 2s 35ms/step - loss: 0.4598 - accuracy: 0.8757 - val_loss: 0.4751 - val_accuracy: 0.8615\n",
            "Epoch 4/20\n",
            "49/49 [==============================] - 2s 34ms/step - loss: 0.4221 - accuracy: 0.9057 - val_loss: 0.4605 - val_accuracy: 0.8676\n",
            "Epoch 5/20\n",
            "49/49 [==============================] - 2s 34ms/step - loss: 0.3961 - accuracy: 0.9238 - val_loss: 0.4499 - val_accuracy: 0.8747\n",
            "Epoch 6/20\n",
            "49/49 [==============================] - 2s 34ms/step - loss: 0.3713 - accuracy: 0.9354 - val_loss: 0.4417 - val_accuracy: 0.8814\n",
            "Epoch 7/20\n",
            "49/49 [==============================] - 2s 34ms/step - loss: 0.3549 - accuracy: 0.9432 - val_loss: 0.4445 - val_accuracy: 0.8745\n",
            "Epoch 8/20\n",
            "49/49 [==============================] - 2s 34ms/step - loss: 0.3360 - accuracy: 0.9516 - val_loss: 0.4476 - val_accuracy: 0.8717\n",
            "Epoch 9/20\n",
            "49/49 [==============================] - 2s 34ms/step - loss: 0.3127 - accuracy: 0.9606 - val_loss: 0.4352 - val_accuracy: 0.8741\n",
            "Epoch 10/20\n",
            "49/49 [==============================] - 2s 35ms/step - loss: 0.3023 - accuracy: 0.9644 - val_loss: 0.4497 - val_accuracy: 0.8700\n",
            "Epoch 11/20\n",
            "49/49 [==============================] - 2s 35ms/step - loss: 0.2879 - accuracy: 0.9660 - val_loss: 0.4357 - val_accuracy: 0.8694\n",
            "Epoch 12/20\n",
            "49/49 [==============================] - 2s 40ms/step - loss: 0.2753 - accuracy: 0.9702 - val_loss: 0.4708 - val_accuracy: 0.8658\n",
            "Epoch 13/20\n",
            "49/49 [==============================] - 2s 34ms/step - loss: 0.2628 - accuracy: 0.9729 - val_loss: 0.4462 - val_accuracy: 0.8667\n",
            "Epoch 14/20\n",
            "49/49 [==============================] - 2s 34ms/step - loss: 0.2538 - accuracy: 0.9729 - val_loss: 0.4740 - val_accuracy: 0.8641\n",
            "Epoch 15/20\n",
            "49/49 [==============================] - 2s 34ms/step - loss: 0.2390 - accuracy: 0.9778 - val_loss: 0.5020 - val_accuracy: 0.8611\n",
            "Epoch 16/20\n",
            "49/49 [==============================] - 2s 34ms/step - loss: 0.2323 - accuracy: 0.9765 - val_loss: 0.4929 - val_accuracy: 0.8617\n",
            "Epoch 17/20\n",
            "49/49 [==============================] - 2s 34ms/step - loss: 0.2227 - accuracy: 0.9766 - val_loss: 0.4703 - val_accuracy: 0.8602\n",
            "Epoch 18/20\n",
            "49/49 [==============================] - 2s 34ms/step - loss: 0.2151 - accuracy: 0.9783 - val_loss: 0.4822 - val_accuracy: 0.8593\n",
            "Epoch 19/20\n",
            "49/49 [==============================] - 2s 34ms/step - loss: 0.2050 - accuracy: 0.9805 - val_loss: 0.5441 - val_accuracy: 0.8570\n",
            "Epoch 20/20\n",
            "49/49 [==============================] - 2s 34ms/step - loss: 0.1972 - accuracy: 0.9814 - val_loss: 0.5178 - val_accuracy: 0.8570\n"
          ],
          "name": "stdout"
        }
      ]
    },
    {
      "cell_type": "code",
      "metadata": {
        "colab": {
          "base_uri": "https://localhost:8080/",
          "height": 279
        },
        "id": "2nrFaS9RHpHI",
        "outputId": "bcb0c15d-78a4-40ff-d1e1-d40657991f4b"
      },
      "source": [
        "epochs = range(1, 21)\n",
        "Units4_model_val_loss = Units4_model_hist.history['val_loss']\n",
        "\n",
        "\n",
        "Units4_model_val_acc = Units4_model_hist.history['val_accuracy']\n",
        "\n",
        "import matplotlib.pyplot as plt\n",
        "\n",
        "# b+ is for \"blue cross\"\n",
        "plt.plot(epochs, val_loss, 'b+', label='Original model')\n",
        "# \"bo\" is for \"blue dot\"\n",
        "plt.plot(epochs, Units4_model_val_loss, 'bo', label='Hidden Units 4 model')\n",
        "plt.xlabel('Epochs')\n",
        "plt.ylabel('Validation loss')\n",
        "plt.legend()\n",
        "\n",
        "plt.show()\n"
      ],
      "execution_count": null,
      "outputs": [
        {
          "output_type": "display_data",
          "data": {
            "image/png": "[encoded data removed]",
            "text/plain": [
              "<Figure size 432x288 with 1 Axes>"
            ]
          },
          "metadata": {
            "tags": [],
            "needs_background": "light"
          }
        }
      ]
    },
    {
      "cell_type": "markdown",
      "metadata": {
        "id": "cQJeKJHAJIJy"
      },
      "source": [
        "As we can see from this, our original model performed much better than this model. But somewhere around epoch 4 we do see the loss at its min."
      ]
    },
    {
      "cell_type": "code",
      "metadata": {
        "colab": {
          "base_uri": "https://localhost:8080/",
          "height": 279
        },
        "id": "kggDQm-0Hs4n",
        "outputId": "a4d62a80-f2e4-44a3-8aaf-b510774f669b"
      },
      "source": [
        "# b+ is for \"blue cross\"\n",
        "plt.plot(epochs, val_acc, 'b+', label='Original model')\n",
        "# \"bo\" is for \"blue dot\"\n",
        "plt.plot(epochs, Units4_model_val_acc, 'bo', label='Hidden Units 4 model')\n",
        "plt.xlabel('Epochs')\n",
        "plt.ylabel('Validation Accuracy')\n",
        "plt.legend()\n",
        "\n",
        "plt.show()\n"
      ],
      "execution_count": null,
      "outputs": [
        {
          "output_type": "display_data",
          "data": {
            "image/png": "[encoded data removed]",
            "text/plain": [
              "<Figure size 432x288 with 1 Axes>"
            ]
          },
          "metadata": {
            "tags": [],
            "needs_background": "light"
          }
        }
      ]
    },
    {
      "cell_type": "code",
      "metadata": {
        "colab": {
          "base_uri": "https://localhost:8080/"
        },
        "id": "5mX7vUIKHwpy",
        "outputId": "2ba7ef8f-22b8-447c-95fd-ca3818379a9e"
      },
      "source": [
        "Unit4_model = models.Sequential()\n",
        "Unit4_model.add(layers.Dense(4, activation='relu', input_shape=(10000,)))\n",
        "Unit4_model.add(layers.Dense(4, activation='relu'))\n",
        "Unit4_model.add(layers.Dense(1, activation='sigmoid'))\n",
        "\n",
        "Unit4_model.compile(optimizer='rmsprop',\n",
        "              loss='binary_crossentropy',\n",
        "              metrics=['accuracy'])\n",
        "\n",
        "Unit4_model.fit(x_train, y_train, epochs=4, batch_size=512)\n",
        "results4 = Unit4_model.evaluate(x_test, y_test)"
      ],
      "execution_count": null,
      "outputs": [
        {
          "output_type": "stream",
          "text": [
            "Epoch 1/4\n",
            "49/49 [==============================] - 2s 24ms/step - loss: 0.6115 - accuracy: 0.7453\n",
            "Epoch 2/4\n",
            "49/49 [==============================] - 1s 23ms/step - loss: 0.4069 - accuracy: 0.8816\n",
            "Epoch 3/4\n",
            "49/49 [==============================] - 1s 24ms/step - loss: 0.3018 - accuracy: 0.9087\n",
            "Epoch 4/4\n",
            "49/49 [==============================] - 1s 24ms/step - loss: 0.2486 - accuracy: 0.9201\n",
            "782/782 [==============================] - 1s 2ms/step - loss: 0.2883 - accuracy: 0.8902\n"
          ],
          "name": "stdout"
        }
      ]
    },
    {
      "cell_type": "markdown",
      "metadata": {
        "id": "HzNgY2uJLAn2"
      },
      "source": [
        "Building model with 34 Hidden Units"
      ]
    },
    {
      "cell_type": "code",
      "metadata": {
        "colab": {
          "base_uri": "https://localhost:8080/"
        },
        "id": "xUudrbFdLFaZ",
        "outputId": "3358d7d1-fc5b-46fd-dc1e-4e9efec7f0bc"
      },
      "source": [
        "#Building the model with 34 Hidden Units - Increasing the complexity.\n",
        "\n",
        "from keras import models\n",
        "from keras import layers\n",
        "\n",
        "Units34_model = models.Sequential()\n",
        "Units34_model.add(layers.Dense(34, activation='relu', input_shape=(10000,)))\n",
        "Units34_model.add(layers.Dense(34, activation='relu'))\n",
        "Units34_model.add(layers.Dense(1, activation='sigmoid'))\n",
        "\n",
        "\n",
        "Units34_model.compile(optimizer='rmsprop',\n",
        "              loss='binary_crossentropy',\n",
        "              metrics=['accuracy'])\n",
        "\n",
        "\n",
        "Units34_model_hist = Units34_model.fit(x_train, y_train,\n",
        "                                       epochs=20,\n",
        "                                       batch_size=512,\n",
        "                                       validation_data=(x_test, y_test))\n",
        "\n"
      ],
      "execution_count": null,
      "outputs": [
        {
          "output_type": "stream",
          "text": [
            "Epoch 1/20\n",
            "49/49 [==============================] - 4s 69ms/step - loss: 0.5188 - accuracy: 0.7472 - val_loss: 0.3052 - val_accuracy: 0.8858\n",
            "Epoch 2/20\n",
            "49/49 [==============================] - 3s 52ms/step - loss: 0.2450 - accuracy: 0.9116 - val_loss: 0.2972 - val_accuracy: 0.8792\n",
            "Epoch 3/20\n",
            "49/49 [==============================] - 3s 53ms/step - loss: 0.1901 - accuracy: 0.9292 - val_loss: 0.2926 - val_accuracy: 0.8840\n",
            "Epoch 4/20\n",
            "49/49 [==============================] - 3s 53ms/step - loss: 0.1503 - accuracy: 0.9464 - val_loss: 0.3566 - val_accuracy: 0.8660\n",
            "Epoch 5/20\n",
            "49/49 [==============================] - 3s 52ms/step - loss: 0.1274 - accuracy: 0.9562 - val_loss: 0.3409 - val_accuracy: 0.8741\n",
            "Epoch 6/20\n",
            "49/49 [==============================] - 3s 52ms/step - loss: 0.1038 - accuracy: 0.9642 - val_loss: 0.3672 - val_accuracy: 0.8708\n",
            "Epoch 7/20\n",
            "49/49 [==============================] - 3s 52ms/step - loss: 0.0806 - accuracy: 0.9761 - val_loss: 0.3924 - val_accuracy: 0.8695\n",
            "Epoch 8/20\n",
            "49/49 [==============================] - 3s 53ms/step - loss: 0.0637 - accuracy: 0.9795 - val_loss: 0.4290 - val_accuracy: 0.8658\n",
            "Epoch 9/20\n",
            "49/49 [==============================] - 3s 53ms/step - loss: 0.0503 - accuracy: 0.9862 - val_loss: 0.4647 - val_accuracy: 0.8632\n",
            "Epoch 10/20\n",
            "49/49 [==============================] - 3s 53ms/step - loss: 0.0365 - accuracy: 0.9903 - val_loss: 0.5357 - val_accuracy: 0.8584\n",
            "Epoch 11/20\n",
            "49/49 [==============================] - 3s 52ms/step - loss: 0.0293 - accuracy: 0.9921 - val_loss: 0.7037 - val_accuracy: 0.8372\n",
            "Epoch 12/20\n",
            "49/49 [==============================] - 3s 52ms/step - loss: 0.0217 - accuracy: 0.9949 - val_loss: 0.7550 - val_accuracy: 0.8382\n",
            "Epoch 13/20\n",
            "49/49 [==============================] - 3s 53ms/step - loss: 0.0191 - accuracy: 0.9954 - val_loss: 0.6360 - val_accuracy: 0.8600\n",
            "Epoch 14/20\n",
            "49/49 [==============================] - 3s 53ms/step - loss: 0.0131 - accuracy: 0.9966 - val_loss: 0.6958 - val_accuracy: 0.8594\n",
            "Epoch 15/20\n",
            "49/49 [==============================] - 3s 53ms/step - loss: 0.0104 - accuracy: 0.9974 - val_loss: 0.7414 - val_accuracy: 0.8588\n",
            "Epoch 16/20\n",
            "49/49 [==============================] - 3s 53ms/step - loss: 0.0049 - accuracy: 0.9990 - val_loss: 0.7870 - val_accuracy: 0.8570\n",
            "Epoch 17/20\n",
            "49/49 [==============================] - 3s 53ms/step - loss: 0.0021 - accuracy: 0.9999 - val_loss: 1.0696 - val_accuracy: 0.8318\n",
            "Epoch 18/20\n",
            "49/49 [==============================] - 3s 53ms/step - loss: 0.0032 - accuracy: 0.9993 - val_loss: 0.8858 - val_accuracy: 0.8571\n",
            "Epoch 19/20\n",
            "49/49 [==============================] - 3s 53ms/step - loss: 0.0075 - accuracy: 0.9979 - val_loss: 0.9291 - val_accuracy: 0.8541\n",
            "Epoch 20/20\n",
            "49/49 [==============================] - 3s 53ms/step - loss: 5.9236e-04 - accuracy: 1.0000 - val_loss: 0.9823 - val_accuracy: 0.8548\n"
          ],
          "name": "stdout"
        }
      ]
    },
    {
      "cell_type": "code",
      "metadata": {
        "colab": {
          "base_uri": "https://localhost:8080/",
          "height": 281
        },
        "id": "BwpINO8_LhEj",
        "outputId": "c7b2a1e3-6eed-497f-adb3-7b52d9f5dd37"
      },
      "source": [
        "epochs = range(1, 21)\n",
        "Units34_model_val_loss = Units34_model_hist.history['val_loss']\n",
        "\n",
        "\n",
        "Units34_model_val_acc = Units34_model_hist.history['val_accuracy']\n",
        "\n",
        "import matplotlib.pyplot as plt\n",
        "\n",
        "# b+ is for \"blue cross\"\n",
        "plt.plot(epochs, val_loss, 'b+', label='Original model')\n",
        "# \"bo\" is for \"blue dot\"\n",
        "plt.plot(epochs, Units34_model_val_loss, 'bo', label='Hidden Units 34 model')\n",
        "plt.xlabel('Epochs')\n",
        "plt.ylabel('Validation loss')\n",
        "plt.legend()\n",
        "\n",
        "plt.show()\n"
      ],
      "execution_count": null,
      "outputs": [
        {
          "output_type": "display_data",
          "data": {
            "image/png": "[encoded data removed]",
            "text/plain": [
              "<Figure size 432x288 with 1 Axes>"
            ]
          },
          "metadata": {
            "tags": [],
            "needs_background": "light"
          }
        }
      ]
    },
    {
      "cell_type": "markdown",
      "metadata": {
        "id": "XBpR9q9aLsF5"
      },
      "source": [
        "Even Here we can see that our original model performed better. With 34 Hidden Units we have added a lot more complexity than needed. The lowest loss we have is it epoch=3"
      ]
    },
    {
      "cell_type": "code",
      "metadata": {
        "colab": {
          "base_uri": "https://localhost:8080/",
          "height": 279
        },
        "id": "XZAbaRqnMEyO",
        "outputId": "19cc1f4d-3abd-45c2-a078-5adad082ad38"
      },
      "source": [
        "# b+ is for \"blue cross\"\n",
        "plt.plot(epochs, val_acc, 'b+', label='Original model')\n",
        "# \"bo\" is for \"blue dot\"\n",
        "plt.plot(epochs, Units34_model_val_acc, 'bo', label='Hidden Units 34 model')\n",
        "plt.xlabel('Epochs')\n",
        "plt.ylabel('Validation Accuracy')\n",
        "plt.legend()\n",
        "\n",
        "plt.show()\n"
      ],
      "execution_count": null,
      "outputs": [
        {
          "output_type": "display_data",
          "data": {
            "image/png": "[encoded data removed]",
            "text/plain": [
              "<Figure size 432x288 with 1 Axes>"
            ]
          },
          "metadata": {
            "tags": [],
            "needs_background": "light"
          }
        }
      ]
    },
    {
      "cell_type": "code",
      "metadata": {
        "colab": {
          "base_uri": "https://localhost:8080/"
        },
        "id": "sf9VVXG1MO_f",
        "outputId": "1b81cc5e-09bc-48b9-9dd6-80cf894235ae"
      },
      "source": [
        "Unit34_model = models.Sequential()\n",
        "Unit34_model.add(layers.Dense(34, activation='relu', input_shape=(10000,)))\n",
        "Unit34_model.add(layers.Dense(34, activation='relu'))\n",
        "Unit34_model.add(layers.Dense(1, activation='sigmoid'))\n",
        "\n",
        "Unit34_model.compile(optimizer='rmsprop',\n",
        "              loss='binary_crossentropy',\n",
        "              metrics=['accuracy'])\n",
        "\n",
        "Unit34_model.fit(x_train, y_train, epochs=3, batch_size=512)\n",
        "results34 = Unit34_model.evaluate(x_test, y_test)"
      ],
      "execution_count": null,
      "outputs": [
        {
          "output_type": "stream",
          "text": [
            "Epoch 1/3\n",
            "49/49 [==============================] - 3s 40ms/step - loss: 0.5279 - accuracy: 0.7556\n",
            "Epoch 2/3\n",
            "49/49 [==============================] - 2s 39ms/step - loss: 0.2510 - accuracy: 0.9071\n",
            "Epoch 3/3\n",
            "49/49 [==============================] - 2s 39ms/step - loss: 0.1848 - accuracy: 0.9330\n",
            "782/782 [==============================] - 2s 2ms/step - loss: 0.2898 - accuracy: 0.8850\n"
          ],
          "name": "stdout"
        }
      ]
    },
    {
      "cell_type": "markdown",
      "metadata": {
        "id": "ZlfHKKkZaDuo"
      },
      "source": [
        "Results for the Test Set:"
      ]
    },
    {
      "cell_type": "markdown",
      "metadata": {
        "id": "SPOSSPqea-IL"
      },
      "source": [
        "![Lower no. of Hidden Units Gives Best Accuracy.png](data:image/png;base64,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)"
      ]
    },
    {
      "cell_type": "markdown",
      "metadata": {
        "id": "3ak1ZvIVWS9E"
      },
      "source": [
        "##3. Using The mse loss function."
      ]
    },
    {
      "cell_type": "code",
      "metadata": {
        "colab": {
          "base_uri": "https://localhost:8080/"
        },
        "id": "GigxI4WMMzdI",
        "outputId": "91c279b8-dbcc-4fd3-eaa2-edd974d2f917"
      },
      "source": [
        "#Building the model with Loss Function = MSE\n",
        "\n",
        "from keras import models\n",
        "from keras import layers\n",
        "\n",
        "mse_model = models.Sequential()\n",
        "mse_model.add(layers.Dense(16, activation='relu', input_shape=(10000,)))\n",
        "mse_model.add(layers.Dense(16, activation='relu'))\n",
        "mse_model.add(layers.Dense(1, activation='sigmoid'))\n",
        "\n",
        "\n",
        "mse_model.compile(optimizer='rmsprop',\n",
        "              loss='mse',\n",
        "              metrics=['accuracy'])\n",
        "\n",
        "\n",
        "mse_model_hist = mse_model.fit(x_train, y_train,\n",
        "                                       epochs=20,\n",
        "                                       batch_size=512,\n",
        "                                       validation_data=(x_test, y_test))\n",
        "\n"
      ],
      "execution_count": null,
      "outputs": [
        {
          "output_type": "stream",
          "text": [
            "Epoch 1/20\n",
            "49/49 [==============================] - 3s 50ms/step - loss: 0.2064 - accuracy: 0.7021 - val_loss: 0.1224 - val_accuracy: 0.8773\n",
            "Epoch 2/20\n",
            "49/49 [==============================] - 2s 40ms/step - loss: 0.0949 - accuracy: 0.9058 - val_loss: 0.0897 - val_accuracy: 0.8887\n",
            "Epoch 3/20\n",
            "49/49 [==============================] - 2s 40ms/step - loss: 0.0641 - accuracy: 0.9254 - val_loss: 0.0854 - val_accuracy: 0.8869\n",
            "Epoch 4/20\n",
            "49/49 [==============================] - 2s 40ms/step - loss: 0.0485 - accuracy: 0.9451 - val_loss: 0.0875 - val_accuracy: 0.8818\n",
            "Epoch 5/20\n",
            "49/49 [==============================] - 2s 40ms/step - loss: 0.0414 - accuracy: 0.9545 - val_loss: 0.0873 - val_accuracy: 0.8826\n",
            "Epoch 6/20\n",
            "49/49 [==============================] - 2s 40ms/step - loss: 0.0347 - accuracy: 0.9621 - val_loss: 0.0928 - val_accuracy: 0.8747\n",
            "Epoch 7/20\n",
            "49/49 [==============================] - 2s 41ms/step - loss: 0.0295 - accuracy: 0.9701 - val_loss: 0.0955 - val_accuracy: 0.8733\n",
            "Epoch 8/20\n",
            "49/49 [==============================] - 2s 41ms/step - loss: 0.0264 - accuracy: 0.9733 - val_loss: 0.0969 - val_accuracy: 0.8710\n",
            "Epoch 9/20\n",
            "49/49 [==============================] - 2s 40ms/step - loss: 0.0235 - accuracy: 0.9769 - val_loss: 0.1010 - val_accuracy: 0.8680\n",
            "Epoch 10/20\n",
            "49/49 [==============================] - 2s 41ms/step - loss: 0.0203 - accuracy: 0.9805 - val_loss: 0.1023 - val_accuracy: 0.8687\n",
            "Epoch 11/20\n",
            "49/49 [==============================] - 2s 41ms/step - loss: 0.0175 - accuracy: 0.9837 - val_loss: 0.1093 - val_accuracy: 0.8602\n",
            "Epoch 12/20\n",
            "49/49 [==============================] - 2s 41ms/step - loss: 0.0157 - accuracy: 0.9854 - val_loss: 0.1192 - val_accuracy: 0.8510\n",
            "Epoch 13/20\n",
            "49/49 [==============================] - 2s 40ms/step - loss: 0.0170 - accuracy: 0.9834 - val_loss: 0.1155 - val_accuracy: 0.8548\n",
            "Epoch 14/20\n",
            "49/49 [==============================] - 2s 42ms/step - loss: 0.0131 - accuracy: 0.9885 - val_loss: 0.1118 - val_accuracy: 0.8611\n",
            "Epoch 15/20\n",
            "49/49 [==============================] - 2s 40ms/step - loss: 0.0121 - accuracy: 0.9889 - val_loss: 0.1154 - val_accuracy: 0.8578\n",
            "Epoch 16/20\n",
            "49/49 [==============================] - 2s 40ms/step - loss: 0.0110 - accuracy: 0.9904 - val_loss: 0.1165 - val_accuracy: 0.8578\n",
            "Epoch 17/20\n",
            "49/49 [==============================] - 2s 40ms/step - loss: 0.0105 - accuracy: 0.9900 - val_loss: 0.1166 - val_accuracy: 0.8585\n",
            "Epoch 18/20\n",
            "49/49 [==============================] - 2s 40ms/step - loss: 0.0092 - accuracy: 0.9914 - val_loss: 0.1202 - val_accuracy: 0.8549\n",
            "Epoch 19/20\n",
            "49/49 [==============================] - 2s 40ms/step - loss: 0.0095 - accuracy: 0.9905 - val_loss: 0.1354 - val_accuracy: 0.8405\n",
            "Epoch 20/20\n",
            "49/49 [==============================] - 2s 40ms/step - loss: 0.0093 - accuracy: 0.9908 - val_loss: 0.1207 - val_accuracy: 0.8569\n"
          ],
          "name": "stdout"
        }
      ]
    },
    {
      "cell_type": "code",
      "metadata": {
        "colab": {
          "base_uri": "https://localhost:8080/",
          "height": 279
        },
        "id": "jynrQT0NNLG4",
        "outputId": "305e2b28-0ec1-48c2-8f79-3ea8b2d6fcd9"
      },
      "source": [
        "epochs = range(1, 21)\n",
        "mse_model_val_loss = mse_model_hist.history['val_loss']\n",
        "\n",
        "\n",
        "mse_model_val_acc = mse_model_hist.history['val_accuracy']\n",
        "\n",
        "import matplotlib.pyplot as plt\n",
        "\n",
        "# b+ is for \"blue cross\"\n",
        "plt.plot(epochs, val_loss, 'b+', label='Original model')\n",
        "# \"bo\" is for \"blue dot\"\n",
        "plt.plot(epochs, mse_model_val_loss, 'bo', label='Loss Function MSE')\n",
        "plt.xlabel('Epochs')\n",
        "plt.ylabel('Validation loss')\n",
        "plt.legend()\n",
        "\n",
        "plt.show()\n"
      ],
      "execution_count": null,
      "outputs": [
        {
          "output_type": "display_data",
          "data": {
            "image/png": "[encoded data removed]",
            "text/plain": [
              "<Figure size 432x288 with 1 Axes>"
            ]
          },
          "metadata": {
            "tags": [],
            "needs_background": "light"
          }
        }
      ]
    },
    {
      "cell_type": "markdown",
      "metadata": {
        "id": "Raq_aHrbNkiN"
      },
      "source": [
        "The model performs pretty good when loss function is mse compared to our original model. We have the highest accuracy at epoch=2."
      ]
    },
    {
      "cell_type": "code",
      "metadata": {
        "colab": {
          "base_uri": "https://localhost:8080/",
          "height": 279
        },
        "id": "C6hIX-OLNv_i",
        "outputId": "7585b0be-1878-4ddc-f950-9befc4e2f835"
      },
      "source": [
        "# b+ is for \"blue cross\"\n",
        "plt.plot(epochs, val_acc, 'b+', label='Original model')\n",
        "# \"bo\" is for \"blue dot\"\n",
        "plt.plot(epochs, mse_model_val_acc, 'bo', label='Loss Function MSE')\n",
        "plt.xlabel('Epochs')\n",
        "plt.ylabel('Validation Accuracy')\n",
        "plt.legend()\n",
        "\n",
        "plt.show()\n"
      ],
      "execution_count": null,
      "outputs": [
        {
          "output_type": "display_data",
          "data": {
            "image/png": "[encoded data removed]",
            "text/plain": [
              "<Figure size 432x288 with 1 Axes>"
            ]
          },
          "metadata": {
            "tags": [],
            "needs_background": "light"
          }
        }
      ]
    },
    {
      "cell_type": "code",
      "metadata": {
        "colab": {
          "base_uri": "https://localhost:8080/"
        },
        "id": "RoqOTYWXN9ZW",
        "outputId": "99da89c9-9242-4b2e-a2bb-e20a487f6275"
      },
      "source": [
        "mse_model = models.Sequential()\n",
        "mse_model.add(layers.Dense(16, activation='relu', input_shape=(10000,)))\n",
        "mse_model.add(layers.Dense(16, activation='relu'))\n",
        "mse_model.add(layers.Dense(1, activation='sigmoid'))\n",
        "\n",
        "mse_model.compile(optimizer='rmsprop',\n",
        "              loss='mse',\n",
        "              metrics=['accuracy'])\n",
        "\n",
        "mse_model.fit(x_train, y_train, epochs=2, batch_size=512)\n",
        "resultsmse = mse_model.evaluate(x_test, y_test)"
      ],
      "execution_count": null,
      "outputs": [
        {
          "output_type": "stream",
          "text": [
            "Epoch 1/2\n",
            "49/49 [==============================] - 2s 29ms/step - loss: 0.1857 - accuracy: 0.7356\n",
            "Epoch 2/2\n",
            "49/49 [==============================] - 1s 28ms/step - loss: 0.0802 - accuracy: 0.9129\n",
            "782/782 [==============================] - 2s 2ms/step - loss: 0.0880 - accuracy: 0.8875\n"
          ],
          "name": "stdout"
        }
      ]
    },
    {
      "cell_type": "markdown",
      "metadata": {
        "id": "8_anMz9Ebsqw"
      },
      "source": [
        "Result for the Test Set:"
      ]
    },
    {
      "cell_type": "markdown",
      "metadata": {
        "id": "xOH5hKenbwfA"
      },
      "source": [
        "![The mse Loss Function Performs Better.png](data:image/png;base64,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)"
      ]
    },
    {
      "cell_type": "markdown",
      "metadata": {
        "id": "oqPru57ZcJxE"
      },
      "source": [
        "##4. Using the tanh activation function instead of relu"
      ]
    },
    {
      "cell_type": "code",
      "metadata": {
        "colab": {
          "base_uri": "https://localhost:8080/"
        },
        "id": "u0K4MW9MOmpC",
        "outputId": "abaf1b72-a8c8-4a9c-802b-7d01152b5b93"
      },
      "source": [
        "#Building the model with Activation Function = tanh\n",
        "\n",
        "from keras import models\n",
        "from keras import layers\n",
        "\n",
        "tanh_model = models.Sequential()\n",
        "tanh_model.add(layers.Dense(16, activation='tanh', input_shape=(10000,)))\n",
        "tanh_model.add(layers.Dense(16, activation='tanh'))\n",
        "tanh_model.add(layers.Dense(1, activation='sigmoid'))\n",
        "\n",
        "\n",
        "tanh_model.compile(optimizer='rmsprop',\n",
        "              loss='binary_crossentropy',\n",
        "              metrics=['accuracy'])\n",
        "\n",
        "\n",
        "tanh_model_hist = tanh_model.fit(x_train, y_train,\n",
        "                                       epochs=20,\n",
        "                                       batch_size=512,\n",
        "                                       validation_data=(x_test, y_test))\n",
        "\n"
      ],
      "execution_count": null,
      "outputs": [
        {
          "output_type": "stream",
          "text": [
            "Epoch 1/20\n",
            "49/49 [==============================] - 3s 49ms/step - loss: 0.5230 - accuracy: 0.7529 - val_loss: 0.3401 - val_accuracy: 0.8630\n",
            "Epoch 2/20\n",
            "49/49 [==============================] - 2s 38ms/step - loss: 0.2513 - accuracy: 0.9078 - val_loss: 0.3183 - val_accuracy: 0.8680\n",
            "Epoch 3/20\n",
            "49/49 [==============================] - 2s 38ms/step - loss: 0.1778 - accuracy: 0.9385 - val_loss: 0.3653 - val_accuracy: 0.8573\n",
            "Epoch 4/20\n",
            "49/49 [==============================] - 2s 38ms/step - loss: 0.1457 - accuracy: 0.9497 - val_loss: 0.3205 - val_accuracy: 0.8768\n",
            "Epoch 5/20\n",
            "49/49 [==============================] - 2s 38ms/step - loss: 0.1192 - accuracy: 0.9597 - val_loss: 0.3550 - val_accuracy: 0.8711\n",
            "Epoch 6/20\n",
            "49/49 [==============================] - 2s 39ms/step - loss: 0.1089 - accuracy: 0.9641 - val_loss: 0.3812 - val_accuracy: 0.8698\n",
            "Epoch 7/20\n",
            "49/49 [==============================] - 2s 39ms/step - loss: 0.0890 - accuracy: 0.9707 - val_loss: 0.4105 - val_accuracy: 0.8655\n",
            "Epoch 8/20\n",
            "49/49 [==============================] - 2s 39ms/step - loss: 0.0862 - accuracy: 0.9734 - val_loss: 0.4400 - val_accuracy: 0.8628\n",
            "Epoch 9/20\n",
            "49/49 [==============================] - 2s 39ms/step - loss: 0.0683 - accuracy: 0.9802 - val_loss: 0.5338 - val_accuracy: 0.8445\n",
            "Epoch 10/20\n",
            "49/49 [==============================] - 2s 39ms/step - loss: 0.0664 - accuracy: 0.9812 - val_loss: 0.5255 - val_accuracy: 0.8526\n",
            "Epoch 11/20\n",
            "49/49 [==============================] - 2s 38ms/step - loss: 0.0611 - accuracy: 0.9814 - val_loss: 0.5346 - val_accuracy: 0.8552\n",
            "Epoch 12/20\n",
            "49/49 [==============================] - 2s 48ms/step - loss: 0.0549 - accuracy: 0.9830 - val_loss: 0.6060 - val_accuracy: 0.8485\n",
            "Epoch 13/20\n",
            "49/49 [==============================] - 2s 38ms/step - loss: 0.0529 - accuracy: 0.9841 - val_loss: 0.5997 - val_accuracy: 0.8508\n",
            "Epoch 14/20\n",
            "49/49 [==============================] - 2s 39ms/step - loss: 0.0479 - accuracy: 0.9866 - val_loss: 0.6519 - val_accuracy: 0.8444\n",
            "Epoch 15/20\n",
            "49/49 [==============================] - 2s 38ms/step - loss: 0.0405 - accuracy: 0.9896 - val_loss: 0.6907 - val_accuracy: 0.8414\n",
            "Epoch 16/20\n",
            "49/49 [==============================] - 2s 39ms/step - loss: 0.0410 - accuracy: 0.9891 - val_loss: 0.6722 - val_accuracy: 0.8472\n",
            "Epoch 17/20\n",
            "49/49 [==============================] - 2s 39ms/step - loss: 0.0327 - accuracy: 0.9919 - val_loss: 0.6898 - val_accuracy: 0.8467\n",
            "Epoch 18/20\n",
            "49/49 [==============================] - 2s 39ms/step - loss: 0.0289 - accuracy: 0.9935 - val_loss: 0.7408 - val_accuracy: 0.8403\n",
            "Epoch 19/20\n",
            "49/49 [==============================] - 2s 39ms/step - loss: 0.0262 - accuracy: 0.9944 - val_loss: 0.7448 - val_accuracy: 0.8443\n",
            "Epoch 20/20\n",
            "49/49 [==============================] - 2s 39ms/step - loss: 0.0270 - accuracy: 0.9936 - val_loss: 0.8435 - val_accuracy: 0.8335\n"
          ],
          "name": "stdout"
        }
      ]
    },
    {
      "cell_type": "markdown",
      "metadata": {
        "id": "46oOBZyNPL16"
      },
      "source": [
        "We have highest accuracy at epoch=4."
      ]
    },
    {
      "cell_type": "code",
      "metadata": {
        "colab": {
          "base_uri": "https://localhost:8080/",
          "height": 279
        },
        "id": "M7in4OD_PO4w",
        "outputId": "d005ee9e-9e2d-4772-a8a7-e7b1f3a5fe97"
      },
      "source": [
        "epochs = range(1, 21)\n",
        "tanh_model_val_loss = tanh_model_hist.history['val_loss']\n",
        "\n",
        "\n",
        "tanh_model_val_acc = tanh_model_hist.history['val_accuracy']\n",
        "\n",
        "import matplotlib.pyplot as plt\n",
        "\n",
        "# b+ is for \"blue cross\"\n",
        "plt.plot(epochs, val_loss, 'b+', label='Original model')\n",
        "# \"bo\" is for \"blue dot\"\n",
        "plt.plot(epochs, tanh_model_val_loss, 'bo', label='Activation Function tanh')\n",
        "plt.xlabel('Epochs')\n",
        "plt.ylabel('Validation loss')\n",
        "plt.legend()\n",
        "\n",
        "plt.show()\n"
      ],
      "execution_count": null,
      "outputs": [
        {
          "output_type": "display_data",
          "data": {
            "image/png": "[encoded data removed]",
            "text/plain": [
              "<Figure size 432x288 with 1 Axes>"
            ]
          },
          "metadata": {
            "tags": [],
            "needs_background": "light"
          }
        }
      ]
    },
    {
      "cell_type": "markdown",
      "metadata": {
        "id": "CKgrLVCEPanq"
      },
      "source": [
        "I think our original model was performing better."
      ]
    },
    {
      "cell_type": "code",
      "metadata": {
        "colab": {
          "base_uri": "https://localhost:8080/",
          "height": 279
        },
        "id": "IrzohcDbPaFl",
        "outputId": "aef59d38-eeff-4884-b3f7-a3c5390ee50a"
      },
      "source": [
        "# b+ is for \"blue cross\"\n",
        "plt.plot(epochs, val_acc, 'b+', label='Original model')\n",
        "# \"bo\" is for \"blue dot\"\n",
        "plt.plot(epochs, tanh_model_val_acc, 'bo', label='Activation Function tanh')\n",
        "plt.xlabel('Epochs')\n",
        "plt.ylabel('Validation Accuracy')\n",
        "plt.legend()\n",
        "\n",
        "plt.show()\n"
      ],
      "execution_count": null,
      "outputs": [
        {
          "output_type": "display_data",
          "data": {
            "image/png": "[encoded data removed]",
            "text/plain": [
              "<Figure size 432x288 with 1 Axes>"
            ]
          },
          "metadata": {
            "tags": [],
            "needs_background": "light"
          }
        }
      ]
    },
    {
      "cell_type": "markdown",
      "metadata": {
        "id": "eLENe7byPrmW"
      },
      "source": [
        "Even in terms of validation accuracy, our original model with relu as activation function had better accuracy for the overall model."
      ]
    },
    {
      "cell_type": "code",
      "metadata": {
        "colab": {
          "base_uri": "https://localhost:8080/"
        },
        "id": "IpFmj5LkP3go",
        "outputId": "08c2c52e-a042-472b-bee9-b45e1fffb690"
      },
      "source": [
        "tanh_model = models.Sequential()\n",
        "tanh_model.add(layers.Dense(16, activation='tanh', input_shape=(10000,)))\n",
        "tanh_model.add(layers.Dense(16, activation='tanh'))\n",
        "tanh_model.add(layers.Dense(1, activation='sigmoid'))\n",
        "\n",
        "tanh_model.compile(optimizer='rmsprop',\n",
        "              loss='binary_crossentropy',\n",
        "              metrics=['accuracy'])\n",
        "\n",
        "tanh_model.fit(x_train, y_train, epochs=4, batch_size=512)\n",
        "resultstanh = tanh_model.evaluate(x_test, y_test)"
      ],
      "execution_count": null,
      "outputs": [
        {
          "output_type": "stream",
          "text": [
            "Epoch 1/4\n",
            "49/49 [==============================] - 2s 27ms/step - loss: 0.5176 - accuracy: 0.7500\n",
            "Epoch 2/4\n",
            "49/49 [==============================] - 1s 27ms/step - loss: 0.2423 - accuracy: 0.9165\n",
            "Epoch 3/4\n",
            "49/49 [==============================] - 1s 27ms/step - loss: 0.1731 - accuracy: 0.9393\n",
            "Epoch 4/4\n",
            "49/49 [==============================] - 1s 27ms/step - loss: 0.1432 - accuracy: 0.9508\n",
            "782/782 [==============================] - 1s 2ms/step - loss: 0.3456 - accuracy: 0.8726\n"
          ],
          "name": "stdout"
        }
      ]
    },
    {
      "cell_type": "markdown",
      "metadata": {
        "id": "-pqYF1JRcO_C"
      },
      "source": [
        "![Activation Function Relu Performs Better Than Tanh.png](data:image/png;base64,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)"
      ]
    },
    {
      "cell_type": "markdown",
      "metadata": {
        "id": "sWcpQ-XncWsb"
      },
      "source": [
        "##5.Use any technique including regularization, dropout, etc., to get your model to perform better on validation\n",
        "\n",
        "We have already increased and decresed the size of our network and come to the conclusion that our 16 Hidden Units network with 2 layers performs better. \n",
        "\n",
        "So, Now let's try to use Regularisation\n"
      ]
    },
    {
      "cell_type": "code",
      "metadata": {
        "colab": {
          "base_uri": "https://localhost:8080/"
        },
        "id": "JA3KXn0DRCbF",
        "outputId": "5c1ab092-c596-4668-dee1-ad230ddd9039"
      },
      "source": [
        "from keras import regularizers\n",
        "\n",
        "l2_model = models.Sequential()\n",
        "l2_model.add(layers.Dense(16, kernel_regularizer=regularizers.l2(0.001),\n",
        "                          activation='relu', input_shape=(10000,)))\n",
        "l2_model.add(layers.Dense(16, kernel_regularizer=regularizers.l2(0.001),\n",
        "                          activation='relu'))\n",
        "l2_model.add(layers.Dense(1, activation='sigmoid'))\n",
        "\n",
        "l2_model.compile(optimizer='rmsprop',\n",
        "                 loss='binary_crossentropy',\n",
        "                 metrics=['accuracy'])\n",
        "\n",
        "l2_model_hist = l2_model.fit(x_train, y_train,\n",
        "                             epochs=20,\n",
        "                             batch_size=512,\n",
        "                             validation_data=(x_test, y_test))\n",
        "\n"
      ],
      "execution_count": null,
      "outputs": [
        {
          "output_type": "stream",
          "text": [
            "Epoch 1/20\n",
            "49/49 [==============================] - 3s 51ms/step - loss: 0.5837 - accuracy: 0.7476 - val_loss: 0.3732 - val_accuracy: 0.8787\n",
            "Epoch 2/20\n",
            "49/49 [==============================] - 2s 39ms/step - loss: 0.3198 - accuracy: 0.9051 - val_loss: 0.3481 - val_accuracy: 0.8797\n",
            "Epoch 3/20\n",
            "49/49 [==============================] - 2s 39ms/step - loss: 0.2636 - accuracy: 0.9250 - val_loss: 0.3413 - val_accuracy: 0.8838\n",
            "Epoch 4/20\n",
            "49/49 [==============================] - 2s 39ms/step - loss: 0.2504 - accuracy: 0.9295 - val_loss: 0.3534 - val_accuracy: 0.8783\n",
            "Epoch 5/20\n",
            "49/49 [==============================] - 2s 39ms/step - loss: 0.2339 - accuracy: 0.9341 - val_loss: 0.3446 - val_accuracy: 0.8839\n",
            "Epoch 6/20\n",
            "49/49 [==============================] - 2s 39ms/step - loss: 0.2180 - accuracy: 0.9438 - val_loss: 0.3537 - val_accuracy: 0.8805\n",
            "Epoch 7/20\n",
            "49/49 [==============================] - 2s 40ms/step - loss: 0.2112 - accuracy: 0.9473 - val_loss: 0.3926 - val_accuracy: 0.8677\n",
            "Epoch 8/20\n",
            "49/49 [==============================] - 2s 39ms/step - loss: 0.2085 - accuracy: 0.9472 - val_loss: 0.3787 - val_accuracy: 0.8740\n",
            "Epoch 9/20\n",
            "49/49 [==============================] - 2s 39ms/step - loss: 0.2012 - accuracy: 0.9510 - val_loss: 0.3712 - val_accuracy: 0.8775\n",
            "Epoch 10/20\n",
            "49/49 [==============================] - 2s 40ms/step - loss: 0.1979 - accuracy: 0.9528 - val_loss: 0.4089 - val_accuracy: 0.8658\n",
            "Epoch 11/20\n",
            "49/49 [==============================] - 2s 40ms/step - loss: 0.1942 - accuracy: 0.9510 - val_loss: 0.4158 - val_accuracy: 0.8654\n",
            "Epoch 12/20\n",
            "49/49 [==============================] - 2s 40ms/step - loss: 0.1969 - accuracy: 0.9503 - val_loss: 0.3952 - val_accuracy: 0.8732\n",
            "Epoch 13/20\n",
            "49/49 [==============================] - 2s 39ms/step - loss: 0.1920 - accuracy: 0.9532 - val_loss: 0.3937 - val_accuracy: 0.8732\n",
            "Epoch 14/20\n",
            "49/49 [==============================] - 2s 40ms/step - loss: 0.1833 - accuracy: 0.9560 - val_loss: 0.4070 - val_accuracy: 0.8696\n",
            "Epoch 15/20\n",
            "49/49 [==============================] - 2s 40ms/step - loss: 0.1824 - accuracy: 0.9559 - val_loss: 0.4020 - val_accuracy: 0.8710\n",
            "Epoch 16/20\n",
            "49/49 [==============================] - 2s 39ms/step - loss: 0.1776 - accuracy: 0.9587 - val_loss: 0.4299 - val_accuracy: 0.8642\n",
            "Epoch 17/20\n",
            "49/49 [==============================] - 2s 39ms/step - loss: 0.1818 - accuracy: 0.9567 - val_loss: 0.4158 - val_accuracy: 0.8688\n",
            "Epoch 18/20\n",
            "49/49 [==============================] - 2s 40ms/step - loss: 0.1824 - accuracy: 0.9558 - val_loss: 0.4292 - val_accuracy: 0.8646\n",
            "Epoch 19/20\n",
            "49/49 [==============================] - 2s 40ms/step - loss: 0.1750 - accuracy: 0.9598 - val_loss: 0.4320 - val_accuracy: 0.8674\n",
            "Epoch 20/20\n",
            "49/49 [==============================] - 2s 40ms/step - loss: 0.1693 - accuracy: 0.9614 - val_loss: 0.4311 - val_accuracy: 0.8685\n"
          ],
          "name": "stdout"
        }
      ]
    },
    {
      "cell_type": "code",
      "metadata": {
        "colab": {
          "base_uri": "https://localhost:8080/",
          "height": 279
        },
        "id": "z68LwNXFRvVM",
        "outputId": "93f771de-a27d-4ba0-c159-46ad1f282f91"
      },
      "source": [
        "l2_model_val_loss = l2_model_hist.history['val_loss']\n",
        "\n",
        "plt.plot(epochs, val_loss, 'b+', label='Original model')\n",
        "plt.plot(epochs, l2_model_val_loss, 'bo', label='L2-regularized model')\n",
        "plt.xlabel('Epochs')\n",
        "plt.ylabel('Validation loss')\n",
        "plt.legend()\n",
        "\n",
        "plt.show()"
      ],
      "execution_count": null,
      "outputs": [
        {
          "output_type": "display_data",
          "data": {
            "image/png": "[encoded data removed]",
            "text/plain": [
              "<Figure size 432x288 with 1 Axes>"
            ]
          },
          "metadata": {
            "tags": [],
            "needs_background": "light"
          }
        }
      ]
    },
    {
      "cell_type": "markdown",
      "metadata": {
        "id": "dsIr4bBRS2lY"
      },
      "source": [
        "We get best accuracy at epoch 5"
      ]
    },
    {
      "cell_type": "code",
      "metadata": {
        "colab": {
          "base_uri": "https://localhost:8080/"
        },
        "id": "iyRku6jsSdJo",
        "outputId": "b2165b59-f64a-4c87-9c21-b58ec9c5f285"
      },
      "source": [
        "l2_model = models.Sequential()\n",
        "l2_model.add(layers.Dense(16, kernel_regularizer=regularizers.l2(0.001),\n",
        "                          activation='relu', input_shape=(10000,)))\n",
        "l2_model.add(layers.Dense(16, kernel_regularizer=regularizers.l2(0.001),\n",
        "                          activation='relu'))\n",
        "l2_model.add(layers.Dense(1, activation='sigmoid'))\n",
        "\n",
        "l2_model.compile(optimizer='rmsprop',\n",
        "              loss='binary_crossentropy',\n",
        "              metrics=['accuracy'])\n",
        "\n",
        "l2_model.fit(x_train, y_train, epochs=5, batch_size=512)\n",
        "resultsl2 = l2_model.evaluate(x_test, y_test)"
      ],
      "execution_count": null,
      "outputs": [
        {
          "output_type": "stream",
          "text": [
            "Epoch 1/5\n",
            "49/49 [==============================] - 2s 27ms/step - loss: 0.6127 - accuracy: 0.6923\n",
            "Epoch 2/5\n",
            "49/49 [==============================] - 1s 27ms/step - loss: 0.3492 - accuracy: 0.9042\n",
            "Epoch 3/5\n",
            "49/49 [==============================] - 1s 27ms/step - loss: 0.2843 - accuracy: 0.9232\n",
            "Epoch 4/5\n",
            "49/49 [==============================] - 1s 28ms/step - loss: 0.2544 - accuracy: 0.9321\n",
            "Epoch 5/5\n",
            "49/49 [==============================] - 1s 27ms/step - loss: 0.2400 - accuracy: 0.9345\n",
            "782/782 [==============================] - 2s 2ms/step - loss: 0.3519 - accuracy: 0.8781\n"
          ],
          "name": "stdout"
        }
      ]
    },
    {
      "cell_type": "markdown",
      "metadata": {
        "id": "FKQhR7epTZHp"
      },
      "source": [
        "Using Dropout Method"
      ]
    },
    {
      "cell_type": "code",
      "metadata": {
        "colab": {
          "base_uri": "https://localhost:8080/"
        },
        "id": "rmtR8eWWTVP8",
        "outputId": "0bbfdc4c-66ac-450c-8b8f-196e018ebe52"
      },
      "source": [
        "dpt_model = models.Sequential()\n",
        "dpt_model.add(layers.Dense(16, activation='relu', input_shape=(10000,)))\n",
        "dpt_model.add(layers.Dropout(0.5))\n",
        "dpt_model.add(layers.Dense(16, activation='relu'))\n",
        "dpt_model.add(layers.Dropout(0.5))\n",
        "dpt_model.add(layers.Dense(1, activation='sigmoid'))\n",
        "\n",
        "dpt_model.compile(optimizer='rmsprop',\n",
        "                  loss='binary_crossentropy',\n",
        "                  metrics=['accuracy'])\n",
        "\n",
        "dpt_model_hist = dpt_model.fit(x_train, y_train,\n",
        "                               epochs=20,\n",
        "                               batch_size=512,\n",
        "                               validation_data=(x_test, y_test))"
      ],
      "execution_count": null,
      "outputs": [
        {
          "output_type": "stream",
          "text": [
            "Epoch 1/20\n",
            "49/49 [==============================] - 3s 47ms/step - loss: 0.6402 - accuracy: 0.6174 - val_loss: 0.4390 - val_accuracy: 0.8685\n",
            "Epoch 2/20\n",
            "49/49 [==============================] - 2s 39ms/step - loss: 0.4545 - accuracy: 0.8036 - val_loss: 0.3398 - val_accuracy: 0.8837\n",
            "Epoch 3/20\n",
            "49/49 [==============================] - 2s 38ms/step - loss: 0.3632 - accuracy: 0.8601 - val_loss: 0.2896 - val_accuracy: 0.8880\n",
            "Epoch 4/20\n",
            "49/49 [==============================] - 2s 39ms/step - loss: 0.3068 - accuracy: 0.8874 - val_loss: 0.2792 - val_accuracy: 0.8881\n",
            "Epoch 5/20\n",
            "49/49 [==============================] - 2s 38ms/step - loss: 0.2624 - accuracy: 0.9095 - val_loss: 0.2771 - val_accuracy: 0.8897\n",
            "Epoch 6/20\n",
            "49/49 [==============================] - 2s 38ms/step - loss: 0.2342 - accuracy: 0.9184 - val_loss: 0.2906 - val_accuracy: 0.8870\n",
            "Epoch 7/20\n",
            "49/49 [==============================] - 2s 38ms/step - loss: 0.2127 - accuracy: 0.9249 - val_loss: 0.3182 - val_accuracy: 0.8831\n",
            "Epoch 8/20\n",
            "49/49 [==============================] - 2s 38ms/step - loss: 0.1940 - accuracy: 0.9322 - val_loss: 0.3162 - val_accuracy: 0.8854\n",
            "Epoch 9/20\n",
            "49/49 [==============================] - 2s 39ms/step - loss: 0.1813 - accuracy: 0.9365 - val_loss: 0.3469 - val_accuracy: 0.8837\n",
            "Epoch 10/20\n",
            "49/49 [==============================] - 2s 38ms/step - loss: 0.1657 - accuracy: 0.9418 - val_loss: 0.3704 - val_accuracy: 0.8778\n",
            "Epoch 11/20\n",
            "49/49 [==============================] - 2s 40ms/step - loss: 0.1568 - accuracy: 0.9465 - val_loss: 0.3698 - val_accuracy: 0.8822\n",
            "Epoch 12/20\n",
            "49/49 [==============================] - 2s 38ms/step - loss: 0.1450 - accuracy: 0.9486 - val_loss: 0.4005 - val_accuracy: 0.8795\n",
            "Epoch 13/20\n",
            "49/49 [==============================] - 2s 39ms/step - loss: 0.1460 - accuracy: 0.9495 - val_loss: 0.4222 - val_accuracy: 0.8803\n",
            "Epoch 14/20\n",
            "49/49 [==============================] - 2s 39ms/step - loss: 0.1352 - accuracy: 0.9493 - val_loss: 0.4549 - val_accuracy: 0.8800\n",
            "Epoch 15/20\n",
            "49/49 [==============================] - 2s 39ms/step - loss: 0.1352 - accuracy: 0.9505 - val_loss: 0.4683 - val_accuracy: 0.8769\n",
            "Epoch 16/20\n",
            "49/49 [==============================] - 2s 39ms/step - loss: 0.1287 - accuracy: 0.9514 - val_loss: 0.4852 - val_accuracy: 0.8756\n",
            "Epoch 17/20\n",
            "49/49 [==============================] - 2s 40ms/step - loss: 0.1264 - accuracy: 0.9496 - val_loss: 0.5020 - val_accuracy: 0.8758\n",
            "Epoch 18/20\n",
            "49/49 [==============================] - 2s 40ms/step - loss: 0.1192 - accuracy: 0.9556 - val_loss: 0.5318 - val_accuracy: 0.8744\n",
            "Epoch 19/20\n",
            "49/49 [==============================] - 2s 45ms/step - loss: 0.1166 - accuracy: 0.9544 - val_loss: 0.5457 - val_accuracy: 0.8742\n",
            "Epoch 20/20\n",
            "49/49 [==============================] - 2s 38ms/step - loss: 0.1193 - accuracy: 0.9530 - val_loss: 0.5469 - val_accuracy: 0.8741\n"
          ],
          "name": "stdout"
        }
      ]
    },
    {
      "cell_type": "code",
      "metadata": {
        "colab": {
          "base_uri": "https://localhost:8080/",
          "height": 279
        },
        "id": "2I4SFmo3UcZW",
        "outputId": "3ec405ee-f102-4d1c-ffaa-676f1cc6a899"
      },
      "source": [
        "dpt_model_val_loss = dpt_model_hist.history['val_loss']\n",
        "\n",
        "plt.plot(epochs, val_loss, 'b+', label='Original model')\n",
        "plt.plot(epochs, dpt_model_val_loss, 'bo', label='Dropout-regularized model')\n",
        "plt.xlabel('Epochs')\n",
        "plt.ylabel('Validation loss')\n",
        "plt.legend()\n",
        "\n",
        "plt.show()"
      ],
      "execution_count": null,
      "outputs": [
        {
          "output_type": "display_data",
          "data": {
            "image/png": "[encoded data removed]",
            "text/plain": [
              "<Figure size 432x288 with 1 Axes>"
            ]
          },
          "metadata": {
            "tags": [],
            "needs_background": "light"
          }
        }
      ]
    },
    {
      "cell_type": "markdown",
      "metadata": {
        "id": "NFab0ZI9Umgz"
      },
      "source": [
        "This is also a good model. Here we have the best accuracy at epoch =5."
      ]
    },
    {
      "cell_type": "code",
      "metadata": {
        "colab": {
          "base_uri": "https://localhost:8080/"
        },
        "id": "Hvpl84CvUhRX",
        "outputId": "b19b670f-ca1f-4e4d-e1d6-23a139593e46"
      },
      "source": [
        "dpt_model = models.Sequential()\n",
        "\n",
        "dpt_model.add(layers.Dense(16, activation='relu', input_shape=(10000,)))\n",
        "dpt_model.add(layers.Dense(16, activation='relu'))\n",
        "dpt_model.add(layers.Dense(1, activation='sigmoid'))\n",
        "\n",
        "dpt_model.compile(optimizer='rmsprop',\n",
        "              loss='binary_crossentropy',\n",
        "              metrics=['accuracy'])\n",
        "\n",
        "dpt_model.fit(x_train, y_train, epochs=5, batch_size=512)\n",
        "resultsdpt = dpt_model.evaluate(x_test, y_test)"
      ],
      "execution_count": null,
      "outputs": [
        {
          "output_type": "stream",
          "text": [
            "Epoch 1/5\n",
            "49/49 [==============================] - 2s 26ms/step - loss: 0.5516 - accuracy: 0.7313\n",
            "Epoch 2/5\n",
            "49/49 [==============================] - 1s 27ms/step - loss: 0.2656 - accuracy: 0.9102\n",
            "Epoch 3/5\n",
            "49/49 [==============================] - 1s 27ms/step - loss: 0.2011 - accuracy: 0.9291\n",
            "Epoch 4/5\n",
            "49/49 [==============================] - 1s 27ms/step - loss: 0.1623 - accuracy: 0.9441\n",
            "Epoch 5/5\n",
            "49/49 [==============================] - 1s 28ms/step - loss: 0.1408 - accuracy: 0.9519\n",
            "782/782 [==============================] - 2s 2ms/step - loss: 0.3534 - accuracy: 0.8670\n"
          ],
          "name": "stdout"
        }
      ]
    },
    {
      "cell_type": "markdown",
      "metadata": {
        "id": "fENWR6wqcZ3U"
      },
      "source": [
        "Result for the Test Data:"
      ]
    },
    {
      "cell_type": "markdown",
      "metadata": {
        "id": "-b497CADccjX"
      },
      "source": [
        "![Screenshot 2021-02-16 at 3.08.41 PM.png](data:image/png;base64,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)"
      ]
    },
    {
      "cell_type": "markdown",
      "metadata": {
        "id": "L8ZHozv0tTIZ"
      },
      "source": [
        "##Summary for the Model"
      ]
    },
    {
      "cell_type": "markdown",
      "metadata": {
        "id": "xWYC87wktZlR"
      },
      "source": [
        "![_                Original Model Performs Best.png](data:image/png;base64,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)"
      ]
    },
    {
      "cell_type": "markdown",
      "metadata": {
        "id": "twcvwy6-tgEE"
      },
      "source": [
        "After changing all the parameters, we realize that the model performs best with 2 layers of 16 hidden units with mse as the loss function and relu as the activation function without any regularisation or dropout."
      ]
    },
    {
      "cell_type": "markdown",
      "metadata": {
        "id": "t63oAo8gt6Hi"
      },
      "source": [
        ""
      ]
    }
  ]
}